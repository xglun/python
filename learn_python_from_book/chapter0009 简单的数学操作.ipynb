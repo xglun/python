{
 "cells": [
  {
   "cell_type": "markdown",
   "metadata": {},
   "source": [
    "## 1 除法\n",
    "\n",
    "当两个数都是整数时，进行整数除法\n",
    "\n",
    "python 2 与 3不同， 在2中/的结果取决于输入数据的类型。"
   ]
  },
  {
   "cell_type": "code",
   "execution_count": 7,
   "metadata": {},
   "outputs": [
    {
     "name": "stdout",
     "output_type": "stream",
     "text": [
      "0.5\n",
      "2.0\n",
      "2.65\n",
      "-2.0\n",
      "1.5\n",
      "1\n",
      "0\n"
     ]
    }
   ],
   "source": [
    "a, b, c, d, e = 1, 2, 3, 5.3, -4\n",
    "print(a / b)\n",
    "print(b / a)\n",
    "print(d / b)\n",
    "print(e / b)\n",
    "\n",
    "print(c / b)\n",
    "print(c // b)  # //取整数部分\n",
    "print(b // c)\n"
   ]
  },
  {
   "cell_type": "markdown",
   "metadata": {},
   "source": [
    "## 2.加"
   ]
  },
  {
   "cell_type": "code",
   "execution_count": 8,
   "metadata": {},
   "outputs": [
    {
     "name": "stdout",
     "output_type": "stream",
     "text": [
      "3\n",
      "[1, 2, 3, 4, 5, 6]\n",
      "dddddd\n"
     ]
    }
   ],
   "source": [
    "a, b = 1, 2\n",
    "print(a + b)\n",
    "\n",
    "# + 也能对字符串，列表，元组进行操作\n",
    "print([1, 2, 3] + [4, 5, 6])\n",
    "print('ddd' + 'ddd')"
   ]
  },
  {
   "cell_type": "markdown",
   "metadata": {},
   "source": [
    "## 幂"
   ]
  },
  {
   "cell_type": "code",
   "execution_count": 12,
   "metadata": {},
   "outputs": [
    {
     "name": "stdout",
     "output_type": "stream",
     "text": [
      "8\n",
      "8\n",
      "8.0\n"
     ]
    },
    {
     "data": {
      "text/plain": [
       "8"
      ]
     },
     "execution_count": 12,
     "metadata": {},
     "output_type": "execute_result"
    }
   ],
   "source": [
    "a, b = 2, 3\n",
    "print(a ** b)\n",
    "print(pow(a, b))\n",
    "\n",
    "import math\n",
    "print(math.pow(a, b))       # 返回浮点数\n",
    "\n",
    "import operator\n",
    "operator.pow(a, b)"
   ]
  },
  {
   "cell_type": "markdown",
   "metadata": {},
   "source": [
    "内建的pow函数与math中的pow函数的另一个区别是， 内建的pow能够接受三个参数"
   ]
  },
  {
   "cell_type": "code",
   "execution_count": 14,
   "metadata": {},
   "outputs": [
    {
     "name": "stdout",
     "output_type": "stream",
     "text": [
      "2\n",
      "1\n"
     ]
    }
   ],
   "source": [
    "a, b, c = 2, 3, 3\n",
    "print(pow(a, b, c))           # 返回的是整数部分\n",
    "print(pow(2, 4, 5))"
   ]
  },
  {
   "cell_type": "markdown",
   "metadata": {},
   "source": [
    "- 特殊的函数"
   ]
  },
  {
   "cell_type": "code",
   "execution_count": 15,
   "metadata": {},
   "outputs": [
    {
     "name": "stdout",
     "output_type": "stream",
     "text": [
      "2.0\n",
      "(2+0j)\n"
     ]
    }
   ],
   "source": [
    "import math\n",
    "import cmath\n",
    "\n",
    "c = 4\n",
    "print(math.sqrt(c))           # 返回浮点数\n",
    "print(cmath.sqrt(c))          # 返回复数"
   ]
  },
  {
   "cell_type": "markdown",
   "metadata": {},
   "source": [
    "计算其他的开方根，可以使用指数的方法"
   ]
  },
  {
   "cell_type": "code",
   "execution_count": 17,
   "metadata": {},
   "outputs": [
    {
     "name": "stdout",
     "output_type": "stream",
     "text": [
      "2.0\n",
      "2.0\n"
     ]
    }
   ],
   "source": [
    "import math\n",
    "x = 8\n",
    "print(math.pow(x, 1/3))\n",
    "print(x ** (1/3))"
   ]
  },
  {
   "cell_type": "code",
   "execution_count": 20,
   "metadata": {},
   "outputs": [
    {
     "name": "stdout",
     "output_type": "stream",
     "text": [
      "1.0\n",
      "7.38905609893065\n",
      "0.0\n",
      "1.0000004999621837e-06\n",
      "1.0000005000001665e-06\n"
     ]
    }
   ],
   "source": [
    "print(math.exp(0))\n",
    "print(math.exp(2))\n",
    "\n",
    "print(math.expm1(0))        # exp(0) - 1\n",
    "\n",
    "print(math.exp(1e-6) - 1)\n",
    "print(math.expm1(1e-6))"
   ]
  },
  {
   "cell_type": "markdown",
   "metadata": {},
   "source": [
    "## 4. 三角函数"
   ]
  },
  {
   "cell_type": "code",
   "execution_count": 23,
   "metadata": {},
   "outputs": [
    {
     "name": "stdout",
     "output_type": "stream",
     "text": [
      "0.8414709848078965\n",
      "3.7621956910836314\n",
      "1.2626272556789115\n",
      "2.23606797749979\n"
     ]
    }
   ],
   "source": [
    "a, b = 1, 2\n",
    "\n",
    "import math\n",
    "print(math.sin(a))\n",
    "print(math.cosh(b))      \n",
    "\n",
    "print(math.atan(math.pi)) # return the arc tangent of pi\n",
    "\n",
    "print(math.hypot(a, b))   # 返回欧几里得范数, 输入的只能是值不能是列表\n"
   ]
  },
  {
   "cell_type": "code",
   "execution_count": 25,
   "metadata": {},
   "outputs": [
    {
     "name": "stdout",
     "output_type": "stream",
     "text": [
      "57.29577951308232\n",
      "1.0\n"
     ]
    }
   ],
   "source": [
    "# 将弧度转换为角度，和将角度转换为弧度\n",
    "import math\n",
    "\n",
    "a = 1\n",
    "b = math.degrees(a)\n",
    "print(b)\n",
    "\n",
    "print(math.radians(b))"
   ]
  },
  {
   "cell_type": "markdown",
   "metadata": {},
   "source": [
    "## 替换"
   ]
  },
  {
   "cell_type": "code",
   "execution_count": 26,
   "metadata": {},
   "outputs": [],
   "source": [
    "a = 3\n",
    "a += 1\n",
    "a *= 2"
   ]
  },
  {
   "cell_type": "code",
   "execution_count": 27,
   "metadata": {},
   "outputs": [
    {
     "name": "stdout",
     "output_type": "stream",
     "text": [
      "ababab\n",
      "['a', 'b', 'a', 'b', 'a', 'b']\n"
     ]
    }
   ],
   "source": [
    "print(3 * 'ab')\n",
    "print(3 * ['a', 'b'])"
   ]
  },
  {
   "cell_type": "markdown",
   "metadata": {},
   "source": [
    "## log\n",
    "\n",
    "默认情况下， log的底数为e"
   ]
  },
  {
   "cell_type": "code",
   "execution_count": 29,
   "metadata": {},
   "outputs": [
    {
     "name": "stdout",
     "output_type": "stream",
     "text": [
      "1.6094379124341003\n",
      "1.6094379124341003\n",
      "2.0\n",
      "(1.6094379124341003+0j)\n",
      "1.791759469228055\n",
      "3.0\n",
      "2.0\n"
     ]
    }
   ],
   "source": [
    "import math\n",
    "import cmath\n",
    "\n",
    "print(math.log(5))\n",
    "print(math.log(5, math.e))\n",
    "print(math.log(100, 10))\n",
    "print(cmath.log(5))\n",
    "\n",
    "print(math.log1p(5))\n",
    "print(math.log2(8))\n",
    "print(math.log10(100))"
   ]
  },
  {
   "cell_type": "code",
   "execution_count": 33,
   "metadata": {},
   "outputs": [
    {
     "name": "stdout",
     "output_type": "stream",
     "text": [
      "3\n",
      "2\n",
      "-2\n",
      "-5\n",
      "2 1\n"
     ]
    }
   ],
   "source": [
    "# modules\n",
    "\n",
    "print(3 % 4)\n",
    "print(-8 % 5)   # -8 - 2\n",
    "print(-9 % -7)  # -9 + 2\n",
    "print(9 % -7)   # 9 + 5\n",
    "\n",
    "quetient, remainder = divmod(9, 4)        # 返回商和余数\n",
    "print(quetient, remainder)"
   ]
  },
  {
   "cell_type": "code",
   "execution_count": null,
   "metadata": {},
   "outputs": [],
   "source": []
  }
 ],
 "metadata": {
  "kernelspec": {
   "display_name": "Python 3",
   "language": "python",
   "name": "python3"
  },
  "language_info": {
   "codemirror_mode": {
    "name": "ipython",
    "version": 3
   },
   "file_extension": ".py",
   "mimetype": "text/x-python",
   "name": "python",
   "nbconvert_exporter": "python",
   "pygments_lexer": "ipython3",
   "version": "3.7.0"
  }
 },
 "nbformat": 4,
 "nbformat_minor": 2
}
