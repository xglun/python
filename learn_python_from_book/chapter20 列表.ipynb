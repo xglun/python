{
 "cells": [
  {
   "cell_type": "markdown",
   "metadata": {},
   "source": [
    "## 列表的一些方法"
   ]
  },
  {
   "cell_type": "code",
   "execution_count": 10,
   "metadata": {},
   "outputs": [
    {
     "name": "stdout",
     "output_type": "stream",
     "text": [
      "[5, 4, 3, 2, 1, 6, [1, 2], 'string', 1, 2]\n",
      "[5, 4, 3, 2, 1, 6, [1, 2], 'string', 1, 2, 1, 55, 1, 2, 1, 2]\n"
     ]
    }
   ],
   "source": [
    "a = [1,2,3,4,5]\n",
    "# sort\n",
    "a.sort(reverse = True)\n",
    "\n",
    "a.append(6)\n",
    "b = [1,2]\n",
    "a.append(b)\n",
    "a.append('string')\n",
    "\n",
    "# extend()\n",
    "a.extend(b)\n",
    "c = a + [1,55] + b * 2        # 将a加两次\n",
    "\n",
    "\n",
    "\n",
    "\n",
    "print(a)\n",
    "print(c)"
   ]
  },
  {
   "cell_type": "markdown",
   "metadata": {},
   "source": [
    "## 对列表进行排序\n",
    "\n",
    "if you want to sort by attibutes of items, you can use the key keyword argument"
   ]
  },
  {
   "cell_type": "code",
   "execution_count": 26,
   "metadata": {},
   "outputs": [
    {
     "name": "stdout",
     "output_type": "stream",
     "text": [
      "[John Cena, Chuck Norris]\n",
      "[Chuck Norris, John Cena]\n",
      "[John Cena, Chuck Norris]\n"
     ]
    }
   ],
   "source": [
    "import datetime\n",
    "\n",
    "class Person(object):\n",
    "    def __init__(self, name, birthday, height):\n",
    "        self.name = name\n",
    "        self.birthday = birthday\n",
    "        self.height = height\n",
    "        \n",
    "    def __repr__(self):\n",
    "        return self.name     # 构建对象之后返回name, 只能返回一个值吗？\n",
    "    \n",
    "l = [Person('John Cena', datetime.date(1892,9,12), 178), \n",
    "    Person('Chuck Norris', datetime.date(1990, 8, 28), 180)]\n",
    "\n",
    "print(l)\n",
    "\n",
    "l.sort(key = lambda item: item.name)\n",
    "print(l)\n",
    "\n",
    "l.sort(key = lambda item: item.birthday)\n",
    "print(l)"
   ]
  },
  {
   "cell_type": "code",
   "execution_count": 14,
   "metadata": {},
   "outputs": [
    {
     "name": "stdout",
     "output_type": "stream",
     "text": [
      "[{'name': 'Jon Skeet', 'birthday': datetime.date(1991, 7, 6), 'height': 185}, {'name': 'John Cena', 'birthday': datetime.date(1992, 9, 12), 'height': 175}, {'name': 'Chuck Norris', 'birthday': datetime.date(1990, 8, 28), 'height': 180}]\n"
     ]
    }
   ],
   "source": [
    "l = [{'name':'John Cena', 'birthday': datetime.date(1992, 9, 12),'height': 175},\n",
    "{'name': 'Chuck Norris', 'birthday': datetime.date(1990, 8, 28),'height': 180},\n",
    "{'name': 'Jon Skeet', 'birthday': datetime.date(1991, 7, 6), 'height': 185}]\n",
    "\n",
    "l.sort(key = lambda item: item['name'], reverse=True)\n",
    "print(l)"
   ]
  },
  {
   "cell_type": "markdown",
   "metadata": {},
   "source": [
    "## 使用 `attrgetter`, `itemgetter`是更好的方法"
   ]
  },
  {
   "cell_type": "code",
   "execution_count": 20,
   "metadata": {},
   "outputs": [
    {
     "name": "stdout",
     "output_type": "stream",
     "text": [
      "[{'name': 'chetan', 'age': 18, 'salary': 5000}, {'name': 'chandan', 'age': 20, 'salary': 2000}, {'name': 'guru', 'age': 30, 'salary': 3000}]\n",
      "[{'name': 'chandan', 'age': 20, 'salary': 2000}, {'name': 'guru', 'age': 30, 'salary': 3000}, {'name': 'chetan', 'age': 18, 'salary': 5000}]\n"
     ]
    }
   ],
   "source": [
    "from operator import itemgetter, attrgetter\n",
    "\n",
    "people = [{'name' : 'chandan', 'age': 20, 'salary' : 2000}, \n",
    "         {'name' : 'chetan', 'age': 18, 'salary' : 5000}, \n",
    "         {'name' : 'guru', 'age' : 30, 'salary' : 3000}]\n",
    "\n",
    "by_age = itemgetter('age')\n",
    "bu_salary = itemgetter('salary')\n",
    "\n",
    "people.sort(key = by_age)\n",
    "print(people)\n",
    "\n",
    "people.sort(key = bu_salary)\n",
    "print(people)"
   ]
  },
  {
   "cell_type": "markdown",
   "metadata": {},
   "source": [
    "也可以给`itemgetter`一个索引参数"
   ]
  },
  {
   "cell_type": "code",
   "execution_count": 21,
   "metadata": {},
   "outputs": [
    {
     "name": "stdout",
     "output_type": "stream",
     "text": [
      "[(1, 2), (0, 2), (3, 4)]\n"
     ]
    }
   ],
   "source": [
    "list_of_tuple = [(1,2), (3,4), (0,2)]\n",
    "list_of_tuple.sort(key = itemgetter(1))\n",
    "print(list_of_tuple)"
   ]
  },
  {
   "cell_type": "markdown",
   "metadata": {},
   "source": [
    "`attrgetter`能给对象的属性排序"
   ]
  },
  {
   "cell_type": "code",
   "execution_count": 22,
   "metadata": {},
   "outputs": [
    {
     "name": "stdout",
     "output_type": "stream",
     "text": [
      "[ege, xl]\n"
     ]
    }
   ],
   "source": [
    "person = [Person('xl', datetime.date(1995, 7, 20), 180), \n",
    "         Person('ege', datetime.date(1997, 6, 20), 170)]\n",
    "\n",
    "person.sort(key = attrgetter('name'))\n",
    "print(person)"
   ]
  },
  {
   "cell_type": "code",
   "execution_count": 27,
   "metadata": {},
   "outputs": [],
   "source": [
    "## clear()   remove all items from list\n"
   ]
  },
  {
   "cell_type": "markdown",
   "metadata": {},
   "source": [
    "## copy"
   ]
  },
  {
   "cell_type": "code",
   "execution_count": 34,
   "metadata": {},
   "outputs": [
    {
     "name": "stdout",
     "output_type": "stream",
     "text": [
      "[0, 1, 2, 3, 4, 5]\n",
      "[0, 1, 10090909, 3] [0, 1000000, 2, 3]\n",
      "[0, 1, 2, 3, 4, 5, 6] [0, 1000, 2, 3, 4, 5, 6]\n",
      "[0, 1, 2, 3, 4] [0, 1000, 2, 3, 4]\n"
     ]
    }
   ],
   "source": [
    "a = []\n",
    "b = a          # 直接=是共享内存的\n",
    "a.extend(list(range(6)))\n",
    "print(b)\n",
    "\n",
    "\n",
    "# 如果你想创建列表的副本,\n",
    "a = list(range(4))\n",
    "b = a[:]\n",
    "b[1] = 1000000\n",
    "a[2] = 10090909\n",
    "print(a, b)\n",
    "\n",
    "a = list(range(7))\n",
    "b = list(a)\n",
    "b[1] = 1000\n",
    "print(a, b)\n",
    "\n",
    "\n",
    "import copy\n",
    "a = list(range(5))\n",
    "bb = a.copy()      # return a shallow copy of the list\n",
    "bb[1] = 1000\n",
    "print(a, bb)"
   ]
  },
  {
   "cell_type": "code",
   "execution_count": 29,
   "metadata": {},
   "outputs": [
    {
     "data": {
      "text/plain": [
       "range(0, 6)"
      ]
     },
     "execution_count": 29,
     "metadata": {},
     "output_type": "execute_result"
    }
   ],
   "source": [
    "range(6)"
   ]
  },
  {
   "cell_type": "markdown",
   "metadata": {},
   "source": [
    "## Advanced slicing"
   ]
  },
  {
   "cell_type": "code",
   "execution_count": 35,
   "metadata": {},
   "outputs": [
    {
     "name": "stdout",
     "output_type": "stream",
     "text": [
      "chandan purohit    \n"
     ]
    }
   ],
   "source": [
    "data = 'chandan purohit       22 2000'\n",
    "name_slice = slice(0, 19)\n",
    "\n",
    "print(data[name_slice])"
   ]
  },
  {
   "cell_type": "code",
   "execution_count": 36,
   "metadata": {},
   "outputs": [
    {
     "name": "stdout",
     "output_type": "stream",
     "text": [
      "list is empty\n"
     ]
    }
   ],
   "source": [
    "## 判断列表是否为空\n",
    "lst = []\n",
    "if not lst:\n",
    "    print('list is empty')"
   ]
  },
  {
   "cell_type": "code",
   "execution_count": 39,
   "metadata": {},
   "outputs": [
    {
     "name": "stdout",
     "output_type": "stream",
     "text": [
      "foo\n",
      "b\n",
      "['a', 'b']\n"
     ]
    }
   ],
   "source": [
    "my_list = ['foo', 'a', 'b']\n",
    "for item in my_list:\n",
    "    if item == 'foo':\n",
    "        del my_list[0]\n",
    "    print(item)\n",
    "    \n",
    "print(my_list)\n",
    "\n",
    "# deleted the first item at the first iteration, but tha caused a to be skipped"
   ]
  },
  {
   "cell_type": "markdown",
   "metadata": {},
   "source": [
    "为什么会这样：\n",
    "\n",
    "for循环会调用可迭代对象的`__iter__`将可迭代对象转换成迭代对象；然后逐步使用`next()`函数，直到报错结束。而每次使用`next()`函数之后，迭代对象的相应值被提出，所有执行`del my_list[0]`时会将当前列表中的第一个值删除。"
   ]
  },
  {
   "cell_type": "code",
   "execution_count": 4,
   "metadata": {},
   "outputs": [
    {
     "name": "stdout",
     "output_type": "stream",
     "text": [
      "<list_iterator object at 0x0000026B193B39E8>\n",
      "[2, 3]\n"
     ]
    }
   ],
   "source": [
    "from collections import Iterable, Iterator\n",
    "\n",
    "a = [1,2,3]\n",
    "print(iter(a))\n",
    "\n",
    "b = iter(a)\n",
    "\n",
    "# print(isinstance(a, Iterable))\n",
    "# print(isinstance(a, Iterator))\n",
    "\n",
    "# print(isinstance(b, Iterable))\n",
    "# print(isinstance(b, Iterator))\n",
    "\n",
    "next(b)\n",
    "\n",
    "print(list(b))"
   ]
  },
  {
   "cell_type": "markdown",
   "metadata": {},
   "source": [
    "## 6: any and All"
   ]
  },
  {
   "cell_type": "code",
   "execution_count": 6,
   "metadata": {},
   "outputs": [
    {
     "data": {
      "text/plain": [
       "True"
      ]
     },
     "execution_count": 6,
     "metadata": {},
     "output_type": "execute_result"
    }
   ],
   "source": [
    "nums = [1,1,0,1]\n",
    "all(nums)\n",
    "\n",
    "any(nums)"
   ]
  },
  {
   "cell_type": "code",
   "execution_count": 8,
   "metadata": {},
   "outputs": [
    {
     "name": "stdout",
     "output_type": "stream",
     "text": [
      "[9, 3, 7, 2, 5, 2, 1]\n"
     ]
    }
   ],
   "source": [
    "nums = [1,2,5,2,7,3,9]\n",
    "rev = reversed(nums)         # 返回一个可迭代对象。 只是反转了， 没有排序\n",
    "print(list(rev))"
   ]
  },
  {
   "cell_type": "markdown",
   "metadata": {},
   "source": [
    "## 8： 连接，合并列表"
   ]
  },
  {
   "cell_type": "code",
   "execution_count": 11,
   "metadata": {},
   "outputs": [
    {
     "name": "stdout",
     "output_type": "stream",
     "text": [
      "['a1', 'a2', 'a3', 'b1', 'b2', 'b3']\n",
      "[('a1', 'b1'), ('a2', 'b2'), ('a3', 'b3')]\n",
      "a1 c1\n"
     ]
    }
   ],
   "source": [
    "alist = ['a1', 'a2', 'a3']\n",
    "blist = ['b1', 'b2', 'b3']\n",
    "print(alist + blist)\n",
    "\n",
    "print(list(zip(alist, blist)))  ## zip return a list of tuple\n",
    "\n",
    "## 如果列表的长度不同, 结果指挥包含少数的那个\n",
    "\n",
    "clist = ['c1']\n",
    "\n",
    "for a, c in zip(alist, clist):\n",
    "    print(a, c)\n",
    "    \n",
    "dlist = []\n",
    "\n",
    "for a, d in zip(alist, dlist):\n",
    "    print(a, d)"
   ]
  },
  {
   "cell_type": "markdown",
   "metadata": {},
   "source": [
    "## 10:移除列表中重复的值\n",
    "\n",
    "the cost of `len()` is `O(1)`\n",
    "\n",
    "使用`set`， 通常来讲原始的顺序会丢失。\n",
    "\n",
    "为了保持原始的顺序，可以使用`OrderDict`"
   ]
  },
  {
   "cell_type": "code",
   "execution_count": 12,
   "metadata": {},
   "outputs": [
    {
     "data": {
      "text/plain": [
       "['b', 'a']"
      ]
     },
     "execution_count": 12,
     "metadata": {},
     "output_type": "execute_result"
    }
   ],
   "source": [
    "name = ['a', 'b', 'a']\n",
    "\n",
    "print(list(set(name)))\n"
   ]
  },
  {
   "cell_type": "markdown",
   "metadata": {},
   "source": [
    "## 11:列表的比较\n",
    "\n",
    "类型必须是一样的"
   ]
  },
  {
   "cell_type": "code",
   "execution_count": 19,
   "metadata": {},
   "outputs": [
    {
     "name": "stdout",
     "output_type": "stream",
     "text": [
      "True\n",
      "False\n"
     ]
    }
   ],
   "source": [
    "print([1,4,5] < [1,4,6])    ## 判断为true时，不能又有大的又有小的\n",
    "print([1,2,3] < [0,1,4])"
   ]
  },
  {
   "cell_type": "code",
   "execution_count": null,
   "metadata": {},
   "outputs": [],
   "source": []
  }
 ],
 "metadata": {
  "kernelspec": {
   "display_name": "Python 3",
   "language": "python",
   "name": "python3"
  },
  "language_info": {
   "codemirror_mode": {
    "name": "ipython",
    "version": 3
   },
   "file_extension": ".py",
   "mimetype": "text/x-python",
   "name": "python",
   "nbconvert_exporter": "python",
   "pygments_lexer": "ipython3",
   "version": "3.7.0"
  }
 },
 "nbformat": 4,
 "nbformat_minor": 2
}
