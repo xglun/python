{
 "cells": [
  {
   "cell_type": "markdown",
   "metadata": {},
   "source": [
    "## break 和 continue\n",
    "\n",
    "`break`终止所在的那一层循环"
   ]
  },
  {
   "cell_type": "code",
   "execution_count": 3,
   "metadata": {},
   "outputs": [
    {
     "name": "stdout",
     "output_type": "stream",
     "text": [
      "i: 0\n",
      "j: 0\n",
      "j: 1\n",
      "i: 1\n",
      "j: 0\n",
      "j: 1\n",
      "i: 2\n",
      "j: 0\n",
      "j: 1\n"
     ]
    }
   ],
   "source": [
    "for i in range(3):\n",
    "    print('i:', i)\n",
    "    for j in range(3):\n",
    "        if j == 2:\n",
    "            break\n",
    "        print('j:', j)"
   ]
  },
  {
   "cell_type": "code",
   "execution_count": 4,
   "metadata": {},
   "outputs": [
    {
     "name": "stdout",
     "output_type": "stream",
     "text": [
      "0\n",
      "1\n",
      "3\n",
      "5\n"
     ]
    }
   ],
   "source": [
    "for i in (0, 1,2,3,4,5):\n",
    "    if i == 2 or i == 4:\n",
    "        continue\n",
    "    print(i)"
   ]
  },
  {
   "cell_type": "markdown",
   "metadata": {},
   "source": [
    "- `break` 和 `continue`都只能作用于单层循环，不能终止全部循环。可以使用`return`来终止函数全部循环。"
   ]
  },
  {
   "cell_type": "code",
   "execution_count": 7,
   "metadata": {},
   "outputs": [
    {
     "name": "stdout",
     "output_type": "stream",
     "text": [
      "0\n",
      "0\n",
      "0\n",
      "0\n",
      "0\n",
      "0\n",
      "1\n",
      "2\n",
      "3\n",
      "4\n",
      "0\n",
      "2\n",
      "4\n"
     ]
    }
   ],
   "source": [
    "def break_all():\n",
    "    for j in range(5):\n",
    "        for i in range(5):\n",
    "            if i * j == 6:\n",
    "                return\n",
    "            print(i*j)\n",
    "break_all()"
   ]
  },
  {
   "cell_type": "code",
   "execution_count": 22,
   "metadata": {},
   "outputs": [
    {
     "name": "stdout",
     "output_type": "stream",
     "text": [
      "0 :: one\n",
      "1 :: two\n"
     ]
    }
   ],
   "source": [
    "for indexx, itemm in enumerate(['one', 'two']):\n",
    "    print(indexx, '::', itemm)"
   ]
  },
  {
   "cell_type": "code",
   "execution_count": 18,
   "metadata": {},
   "outputs": [
    {
     "name": "stdout",
     "output_type": "stream",
     "text": [
      "0 :: one\n",
      "1 :: two\n"
     ]
    }
   ],
   "source": [
    "for i, j in enumerate(['one', 'two']):\n",
    "    print(i, '::', j)"
   ]
  },
  {
   "cell_type": "code",
   "execution_count": 21,
   "metadata": {},
   "outputs": [
    {
     "name": "stdout",
     "output_type": "stream",
     "text": [
      "0 one\n",
      "1 two\n"
     ]
    }
   ],
   "source": [
    "for index, item in enumerate(['one', 'two']):\n",
    "    print(index, item)"
   ]
  },
  {
   "cell_type": "markdown",
   "metadata": {},
   "source": [
    "使用`map`和`lambda`对列表进行值操作"
   ]
  },
  {
   "cell_type": "code",
   "execution_count": 29,
   "metadata": {},
   "outputs": [
    {
     "name": "stdout",
     "output_type": "stream",
     "text": [
      "['ONE', 'TWO']\n"
     ]
    }
   ],
   "source": [
    "x = map(lambda e: e.upper(), ['one', 'two'])\n",
    "# print(next(x))\n",
    "# print(next(x))\n",
    "print(list(x))"
   ]
  },
  {
   "cell_type": "markdown",
   "metadata": {},
   "source": [
    "## 4：循环使用`else`语句\n",
    "\n",
    "当`for`,`while`运行完之后，执行`else`"
   ]
  },
  {
   "cell_type": "code",
   "execution_count": 1,
   "metadata": {},
   "outputs": [
    {
     "name": "stdout",
     "output_type": "stream",
     "text": [
      "0\n",
      "1\n",
      "done\n"
     ]
    }
   ],
   "source": [
    "for i in range(2):\n",
    "    print(i)\n",
    "else:\n",
    "    print('done')"
   ]
  },
  {
   "cell_type": "code",
   "execution_count": 2,
   "metadata": {},
   "outputs": [
    {
     "name": "stdout",
     "output_type": "stream",
     "text": [
      "0\n",
      "1\n",
      "done\n"
     ]
    }
   ],
   "source": [
    "i = 0\n",
    "while i < 2:\n",
    "    print(i)\n",
    "    i += 1\n",
    "else:\n",
    "    print('done')"
   ]
  },
  {
   "cell_type": "markdown",
   "metadata": {},
   "source": [
    "当循环被其他条件终止时，不执行`else`"
   ]
  },
  {
   "cell_type": "code",
   "execution_count": 3,
   "metadata": {},
   "outputs": [
    {
     "name": "stdout",
     "output_type": "stream",
     "text": [
      "0\n",
      "1\n"
     ]
    }
   ],
   "source": [
    "for i in range(2):\n",
    "    print(i)\n",
    "    if i == 1:\n",
    "        break\n",
    "else:\n",
    "    print('done')"
   ]
  },
  {
   "cell_type": "code",
   "execution_count": 4,
   "metadata": {},
   "outputs": [
    {
     "name": "stdout",
     "output_type": "stream",
     "text": [
      "a 1\n",
      "b 2\n",
      "c 3\n"
     ]
    }
   ],
   "source": [
    "d = {'a': 1, 'b': 2, 'c': 3}\n",
    "for key, value in d.items():\n",
    "    print(key, value)"
   ]
  },
  {
   "cell_type": "markdown",
   "metadata": {},
   "source": [
    "## 7: the 'half loop' do-while"
   ]
  },
  {
   "cell_type": "code",
   "execution_count": 5,
   "metadata": {},
   "outputs": [
    {
     "name": "stdout",
     "output_type": "stream",
     "text": [
      "9\n",
      "8\n",
      "7\n",
      "done\n"
     ]
    }
   ],
   "source": [
    "a = 10 \n",
    "while True:\n",
    "    a -= 1\n",
    "    print(a)\n",
    "    if a < 8:\n",
    "        break\n",
    "print('done')"
   ]
  },
  {
   "cell_type": "markdown",
   "metadata": {},
   "source": [
    "## 循环和拆包\n",
    "\n",
    "如果想循环元组列表"
   ]
  },
  {
   "cell_type": "code",
   "execution_count": 10,
   "metadata": {},
   "outputs": [
    {
     "name": "stdout",
     "output_type": "stream",
     "text": [
      "a b c\n",
      "x y z\n",
      "1 2 3\n",
      "===========================\n",
      "a b c\n",
      "x y z\n",
      "1 2 3\n",
      "=============\n",
      "a b c\n",
      "x y z\n",
      "1 2 3\n"
     ]
    }
   ],
   "source": [
    "collection = [('a', 'b', 'c'), ('x', 'y', 'z'), ('1', '2', '3')]\n",
    "for item in collection:\n",
    "    i1 = item[0]\n",
    "    i2 = item[1]\n",
    "    i3 = item[2]\n",
    "    print(i1, i2, i3)\n",
    "\n",
    "print('===========================')\n",
    "# or\n",
    "for item in collection:\n",
    "    i1, i2, i3 = item\n",
    "    print(i1, i2, i3)\n",
    "    \n",
    "# you can simply do this\n",
    "print('=============')\n",
    "for i1, i2, i3 in collection:\n",
    "    print(i1, i2, i3)\n",
    "    \n",
    "## this will also work for most types of iterables, not just tuples"
   ]
  },
  {
   "cell_type": "code",
   "execution_count": 13,
   "metadata": {},
   "outputs": [
    {
     "name": "stdout",
     "output_type": "stream",
     "text": [
      "1 2 3\n",
      "4 5 6\n"
     ]
    }
   ],
   "source": [
    "a = [[1,2,3], [4,5,6]]\n",
    "for i, j, k in a:\n",
    "    print(i, j, k)"
   ]
  },
  {
   "cell_type": "markdown",
   "metadata": {},
   "source": [
    "## 9:用不同的方法迭代列表的不同部分步长\n"
   ]
  },
  {
   "cell_type": "code",
   "execution_count": 1,
   "metadata": {},
   "outputs": [
    {
     "name": "stdout",
     "output_type": "stream",
     "text": [
      "a\n",
      "b\n",
      "c\n",
      "d\n",
      "e\n",
      "alpha has an index of 0\n",
      "brave has an index of 1\n",
      "charlie has an index of 2\n",
      "delta has an index of 3\n",
      "echo has an index of 4\n"
     ]
    }
   ],
   "source": [
    "lst = ['alpha', 'brave', 'charlie', 'delta', 'echo']\n",
    "for s in lst:\n",
    "    print(s[:1])\n",
    "    \n",
    "for idx, s in enumerate(lst):\n",
    "    print('%s has an index of %d' % (s, idx))"
   ]
  },
  {
   "cell_type": "code",
   "execution_count": 2,
   "metadata": {},
   "outputs": [
    {
     "name": "stdout",
     "output_type": "stream",
     "text": [
      "brave\n",
      "delta\n"
     ]
    }
   ],
   "source": [
    "lst = ['alpha', 'brave', 'charlie', 'delta', 'echo']\n",
    "\n",
    "for s in lst[1::2]:\n",
    "    print(s)"
   ]
  },
  {
   "cell_type": "code",
   "execution_count": null,
   "metadata": {},
   "outputs": [],
   "source": []
  },
  {
   "cell_type": "code",
   "execution_count": null,
   "metadata": {},
   "outputs": [],
   "source": []
  }
 ],
 "metadata": {
  "kernelspec": {
   "display_name": "Python 3",
   "language": "python",
   "name": "python3"
  },
  "language_info": {
   "codemirror_mode": {
    "name": "ipython",
    "version": 3
   },
   "file_extension": ".py",
   "mimetype": "text/x-python",
   "name": "python",
   "nbconvert_exporter": "python",
   "pygments_lexer": "ipython3",
   "version": "3.7.0"
  }
 },
 "nbformat": 4,
 "nbformat_minor": 2
}
