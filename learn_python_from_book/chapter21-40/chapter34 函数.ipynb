{
 "cells": [
  {
   "cell_type": "code",
   "execution_count": 1,
   "metadata": {},
   "outputs": [
    {
     "name": "stdout",
     "output_type": "stream",
     "text": [
      "None\n"
     ]
    }
   ],
   "source": [
    "def func():\n",
    "    a = 1\n",
    "    \n",
    "print(func())"
   ]
  },
  {
   "cell_type": "markdown",
   "metadata": {},
   "source": [
    "当函数没有返回值时，函数返回`None`。"
   ]
  },
  {
   "cell_type": "markdown",
   "metadata": {},
   "source": [
    "当使用`pass`时：在语法上需要语句，但不需要执行任何代码时，它作为占位符非常有用。"
   ]
  },
  {
   "cell_type": "markdown",
   "metadata": {},
   "source": [
    "## *args"
   ]
  },
  {
   "cell_type": "code",
   "execution_count": 2,
   "metadata": {},
   "outputs": [
    {
     "name": "stdout",
     "output_type": "stream",
     "text": [
      "1\n",
      "2\n",
      "3\n"
     ]
    }
   ],
   "source": [
    "def func(*args):\n",
    "    # arges will be a tuple containing all values that are passed in\n",
    "    for i in args:\n",
    "        print(i)\n",
    "        \n",
    "func(1,2,3)"
   ]
  },
  {
   "cell_type": "code",
   "execution_count": 3,
   "metadata": {},
   "outputs": [
    {
     "name": "stdout",
     "output_type": "stream",
     "text": [
      "1\n",
      "2\n",
      "3\n"
     ]
    }
   ],
   "source": [
    "def func(*atuple):\n",
    "    for i in atuple:\n",
    "        print(i)\n",
    "\n",
    "func(1,2,3)"
   ]
  },
  {
   "cell_type": "markdown",
   "metadata": {},
   "source": [
    "`*arge`不一定非要用`args`， 也可用其他的，只要有`*`就可以"
   ]
  },
  {
   "cell_type": "markdown",
   "metadata": {},
   "source": [
    "不能设置默认值, func(*args = [1,2,4])\n",
    "\n",
    "也不能在使用函数的时候，不能调用名称， func(*args = [1,2,3])\n",
    "\n",
    "如果在数组中已经有了参数，能够调用函数，func(*my_stuff)"
   ]
  },
  {
   "cell_type": "code",
   "execution_count": 4,
   "metadata": {},
   "outputs": [
    {
     "name": "stdout",
     "output_type": "stream",
     "text": [
      "1\n",
      "2\n",
      "4\n"
     ]
    }
   ],
   "source": [
    "list_of_arg_values = [1,2,4]\n",
    "func(*list_of_arg_values)"
   ]
  },
  {
   "cell_type": "markdown",
   "metadata": {},
   "source": [
    "*args 用来发送一个非键值对的可变数量的参数列表给函数"
   ]
  },
  {
   "cell_type": "code",
   "execution_count": 8,
   "metadata": {},
   "outputs": [
    {
     "name": "stdout",
     "output_type": "stream",
     "text": [
      "first val: aaa\n",
      "other val: bbb\n",
      "other val: vvv\n"
     ]
    }
   ],
   "source": [
    "def test_var_args(first_val, *other_val):\n",
    "    print('first val:', first_val)\n",
    "    for val in other_val:\n",
    "        print('other val:', val)\n",
    "        \n",
    "test_var_args('aaa', 'bbb', 'vvv')"
   ]
  },
  {
   "cell_type": "markdown",
   "metadata": {},
   "source": [
    "## **kwargs"
   ]
  },
  {
   "cell_type": "code",
   "execution_count": 5,
   "metadata": {},
   "outputs": [
    {
     "name": "stdout",
     "output_type": "stream",
     "text": [
      "value1 1\n",
      "value2 2\n",
      "value3 3\n"
     ]
    }
   ],
   "source": [
    "def func(**kwargs):\n",
    "    # kwargs will be a dictionary containing the names as keys and the values as values\n",
    "    \n",
    "    for name, value in kwargs.items():\n",
    "        print(name, value)\n",
    "        \n",
    "func(value1 = 1, value2 = 2, value3 = 3)"
   ]
  },
  {
   "cell_type": "code",
   "execution_count": 6,
   "metadata": {},
   "outputs": [
    {
     "name": "stdout",
     "output_type": "stream",
     "text": [
      "foo 1\n",
      "bar 2\n"
     ]
    }
   ],
   "source": [
    "my_dict = {'foo' : 1, 'bar': 2}\n",
    "\n",
    "func(**my_dict)"
   ]
  },
  {
   "cell_type": "markdown",
   "metadata": {},
   "source": [
    "### 您可以将这些参数与其他可选参数和必需参数混合使用，但是定义中的顺序很重要。\n",
    "\n",
    "1: positional/keyword 参数\n",
    "\n",
    "2: *args\n",
    "\n",
    "3: keyword-only argument\n",
    "\n",
    "4: **awargs"
   ]
  },
  {
   "cell_type": "code",
   "execution_count": 7,
   "metadata": {},
   "outputs": [],
   "source": [
    "def func(arg1, arg2 = 10, *args, kwarg1, kwarg2 = 2, **kwargs):\n",
    "    pass"
   ]
  },
  {
   "cell_type": "markdown",
   "metadata": {},
   "source": [
    "**awargs :\n",
    "\n",
    "允许你将不定长度的键值对，作为参数传递给函数"
   ]
  },
  {
   "cell_type": "code",
   "execution_count": 10,
   "metadata": {},
   "outputs": [
    {
     "name": "stdout",
     "output_type": "stream",
     "text": [
      "first:1, second:2, third:4\n"
     ]
    }
   ],
   "source": [
    "def print_list(lst):\n",
    "    print('first:{0}, second:{1}, third:{2}'.format(*lst))\n",
    "    \n",
    "lst = [1,2,4]\n",
    "print_list(lst)"
   ]
  },
  {
   "cell_type": "code",
   "execution_count": 12,
   "metadata": {},
   "outputs": [
    {
     "name": "stdout",
     "output_type": "stream",
     "text": [
      "key is one, value is 1\n",
      "key is two, value is 2\n"
     ]
    }
   ],
   "source": [
    "def greet_me(**kwargs):\n",
    "    for key, value in kwargs.items():\n",
    "        print('key is {0}, value is {1}'.format(key, value))\n",
    "        \n",
    "dic = {'one': 1, 'two': 2}\n",
    "greet_me(**dic)"
   ]
  },
  {
   "cell_type": "code",
   "execution_count": 15,
   "metadata": {},
   "outputs": [
    {
     "name": "stdout",
     "output_type": "stream",
     "text": [
      "key is one, value is 1\n",
      "key is two, value is 2\n"
     ]
    }
   ],
   "source": [
    "greet_me(one = 1, two = 2)"
   ]
  },
  {
   "cell_type": "code",
   "execution_count": 16,
   "metadata": {},
   "outputs": [
    {
     "name": "stdout",
     "output_type": "stream",
     "text": [
      "first argment 1:  two\n",
      "arg2: 1\n",
      "arg3: 2\n"
     ]
    }
   ],
   "source": [
    "def test_args_kwargs(arg1, arg2, arg3):\n",
    "    print('first argment 1: ', arg1)\n",
    "    print('arg2:', arg2)\n",
    "    print('arg3:', arg3)\n",
    "    \n",
    "args = ['two', 1, 2]\n",
    "test_args_kwargs(*args)"
   ]
  },
  {
   "cell_type": "code",
   "execution_count": 17,
   "metadata": {},
   "outputs": [
    {
     "name": "stdout",
     "output_type": "stream",
     "text": [
      "first argment 1:  3\n",
      "arg2: two\n",
      "arg3: 5\n"
     ]
    }
   ],
   "source": [
    "kwargs = {'arg1': 3, 'arg2': 'two', 'arg3': 5}\n",
    "test_args_kwargs(**kwargs)"
   ]
  },
  {
   "cell_type": "code",
   "execution_count": 18,
   "metadata": {},
   "outputs": [
    {
     "name": "stdout",
     "output_type": "stream",
     "text": [
      "{'a': 1, 'b': 2}\n",
      "2\n"
     ]
    }
   ],
   "source": [
    "def fn(**kwargs):\n",
    "    print(kwargs)\n",
    "    f1(**kwargs)\n",
    "    \n",
    "def f1(**kwargs):\n",
    "    print(len(kwargs))\n",
    "    \n",
    "fn(a = 1, b = 2)"
   ]
  },
  {
   "cell_type": "code",
   "execution_count": 19,
   "metadata": {},
   "outputs": [
    {
     "data": {
      "text/plain": [
       "'HELLO'"
      ]
     },
     "execution_count": 19,
     "metadata": {},
     "output_type": "execute_result"
    }
   ],
   "source": [
    "strip_and_upper_case = lambda s: s.strip().upper()\n",
    "\n",
    "strip_and_upper_case('  Hello  ')"
   ]
  },
  {
   "cell_type": "code",
   "execution_count": 2,
   "metadata": {},
   "outputs": [
    {
     "data": {
      "text/plain": [
       "'hello'"
      ]
     },
     "execution_count": 2,
     "metadata": {},
     "output_type": "execute_result"
    }
   ],
   "source": [
    "'  hello  '.strip()"
   ]
  },
  {
   "cell_type": "code",
   "execution_count": 20,
   "metadata": {},
   "outputs": [
    {
     "data": {
      "text/plain": [
       "['  dfdsaf  ', 'foo', '   var']"
      ]
     },
     "execution_count": 20,
     "metadata": {},
     "output_type": "execute_result"
    }
   ],
   "source": [
    "sorted(['foo', '   var', '  dfdsaf  '], key = lambda s: s.strip().upper())"
   ]
  },
  {
   "cell_type": "code",
   "execution_count": 21,
   "metadata": {},
   "outputs": [
    {
     "data": {
      "text/plain": [
       "['DGDG', 'GDS', 'SFD']"
      ]
     },
     "execution_count": 21,
     "metadata": {},
     "output_type": "execute_result"
    }
   ],
   "source": [
    "sorted(map(lambda s: s.strip().upper(), ['  sfd', 'gds', ' dgdg ']))"
   ]
  },
  {
   "cell_type": "markdown",
   "metadata": {},
   "source": [
    "当使用可变参数作为默认值时，应谨慎对待，因为对默认参数的变化都将时永久的。"
   ]
  },
  {
   "cell_type": "code",
   "execution_count": 22,
   "metadata": {},
   "outputs": [
    {
     "name": "stdout",
     "output_type": "stream",
     "text": [
      "(43, [])\n"
     ]
    }
   ],
   "source": [
    "def f(a, b = 43, c = []):\n",
    "    pass\n",
    "\n",
    "print(f.__defaults__)"
   ]
  },
  {
   "cell_type": "markdown",
   "metadata": {},
   "source": [
    "默认值保存在 `__defaults__`下"
   ]
  },
  {
   "cell_type": "markdown",
   "metadata": {},
   "source": [
    "\n",
    "对于不可变类型，没有办法对变量进行变异，只能重新分配，保持原始值不变。\n",
    "\n",
    "但是对于可变类型，通过调用各种成员函数，原始值可以发生突变，因此对函数的连续调用不能保证具有初始默认值。"
   ]
  },
  {
   "cell_type": "code",
   "execution_count": 23,
   "metadata": {},
   "outputs": [
    {
     "data": {
      "text/plain": [
       "[1]"
      ]
     },
     "execution_count": 23,
     "metadata": {},
     "output_type": "execute_result"
    }
   ],
   "source": [
    "def append(elem, to = []):\n",
    "    to.append(elem)\n",
    "    return to\n",
    "\n",
    "append(1)"
   ]
  },
  {
   "cell_type": "code",
   "execution_count": 24,
   "metadata": {},
   "outputs": [
    {
     "data": {
      "text/plain": [
       "[1, 2]"
      ]
     },
     "execution_count": 24,
     "metadata": {},
     "output_type": "execute_result"
    }
   ],
   "source": [
    "append(2)"
   ]
  },
  {
   "cell_type": "code",
   "execution_count": 25,
   "metadata": {},
   "outputs": [
    {
     "data": {
      "text/plain": [
       "[3]"
      ]
     },
     "execution_count": 25,
     "metadata": {},
     "output_type": "execute_result"
    }
   ],
   "source": [
    "append(3, [])"
   ]
  },
  {
   "cell_type": "code",
   "execution_count": 26,
   "metadata": {},
   "outputs": [
    {
     "data": {
      "text/plain": [
       "[1, 2, 4]"
      ]
     },
     "execution_count": 26,
     "metadata": {},
     "output_type": "execute_result"
    }
   ],
   "source": [
    "append(4)"
   ]
  },
  {
   "cell_type": "markdown",
   "metadata": {},
   "source": [
    "## 解决方案\n",
    "\n"
   ]
  },
  {
   "cell_type": "code",
   "execution_count": 27,
   "metadata": {},
   "outputs": [],
   "source": [
    "def append(elem, to = None):\n",
    "    if to is None:\n",
    "        to = []\n",
    "        \n",
    "    to.append(elem)\n",
    "    return to"
   ]
  },
  {
   "cell_type": "code",
   "execution_count": 28,
   "metadata": {},
   "outputs": [
    {
     "name": "stdout",
     "output_type": "stream",
     "text": [
      "[9, 5, 6]\n",
      "[9, 5, 6]\n"
     ]
    }
   ],
   "source": [
    "def foo(x):\n",
    "    x[0] = 9\n",
    "    print(x)\n",
    "    \n",
    "y = [4,5,6]\n",
    "foo(y)\n",
    "\n",
    "print(y)"
   ]
  },
  {
   "cell_type": "markdown",
   "metadata": {},
   "source": [
    "## 6：参数传递和可变性\n",
    "\n",
    "- argument(实际参数): 传递到函数的实际参数\n",
    "\n",
    "- parameter(形式参数): \n",
    "\n",
    "在python中，参数传递时通过分配来完成的"
   ]
  },
  {
   "cell_type": "markdown",
   "metadata": {},
   "source": [
    "- 改变parameter 会改变 argument, if the argument's type is mutable"
   ]
  },
  {
   "cell_type": "code",
   "execution_count": 29,
   "metadata": {},
   "outputs": [
    {
     "name": "stdout",
     "output_type": "stream",
     "text": [
      "[9, 5, 6]\n",
      "[9, 5, 6]\n"
     ]
    }
   ],
   "source": [
    "def foo(x):           # here x is the parameter\n",
    "    x[0] = 9        # this mutates the list labelled by both x and y\n",
    "    print(x)\n",
    "    \n",
    "y = [4,5,6]\n",
    "foo(y)\n",
    "\n",
    "print(y)"
   ]
  },
  {
   "cell_type": "markdown",
   "metadata": {},
   "source": [
    "- 重新分配parameter, 不会重新分配argument"
   ]
  },
  {
   "cell_type": "code",
   "execution_count": 30,
   "metadata": {},
   "outputs": [
    {
     "name": "stdout",
     "output_type": "stream",
     "text": [
      "[9, 5, 6]\n"
     ]
    }
   ],
   "source": [
    "def foo(x):\n",
    "    x[0] = 9\n",
    "    x = [4,5,6]\n",
    "    x[2] = 8\n",
    "    \n",
    "y = [4,5,6]\n",
    "foo(y)\n",
    "print(y)"
   ]
  },
  {
   "cell_type": "markdown",
   "metadata": {},
   "source": [
    "- immutable: int, str, tuple and so on\n",
    "\n",
    "- mutable: list, dict, set, and so on "
   ]
  },
  {
   "cell_type": "code",
   "execution_count": 34,
   "metadata": {},
   "outputs": [
    {
     "name": "stdout",
     "output_type": "stream",
     "text": [
      "[3, 1, 9, 5]\n",
      "[3, 1, 9, 5]\n",
      "None\n",
      "[1, 3, 5, 9]\n"
     ]
    }
   ],
   "source": [
    "x = [3, 1, 9] \n",
    "y = x\n",
    "\n",
    "x.append(5)   # mutates the list labelled by x and y, bot x and y are bound to [3,1,9]\n",
    "print(x)\n",
    "print(y)\n",
    "\n",
    "print(x.sort())\n",
    "print(y)"
   ]
  },
  {
   "cell_type": "code",
   "execution_count": 35,
   "metadata": {},
   "outputs": [
    {
     "name": "stdout",
     "output_type": "stream",
     "text": [
      "[1, 3, 4, 5, 9]\n",
      "[1, 3, 5, 9, 4]\n",
      "[1, 3, 5, 9]\n"
     ]
    }
   ],
   "source": [
    "x = x + [4]   # dose not mulate the list (make a copy for x only, not y)\n",
    "\n",
    "z = x\n",
    "\n",
    "x = sorted(x)\n",
    "\n",
    "print(x)\n",
    "\n",
    "print(z)\n",
    "\n",
    "print(y)"
   ]
  },
  {
   "cell_type": "code",
   "execution_count": 36,
   "metadata": {},
   "outputs": [
    {
     "name": "stdout",
     "output_type": "stream",
     "text": [
      "[1, 2, 4]\n",
      "[1, 2, 4]\n",
      "[1, 2, 4]\n",
      "[1, 100, 4]\n"
     ]
    }
   ],
   "source": [
    "x = [1,2,4]\n",
    "\n",
    "y = x + []\n",
    "\n",
    "print(x)\n",
    "print(y)\n",
    "\n",
    "y[1] = 100\n",
    "print(x)\n",
    "print(y)"
   ]
  },
  {
   "cell_type": "code",
   "execution_count": 39,
   "metadata": {},
   "outputs": [
    {
     "name": "stdout",
     "output_type": "stream",
     "text": [
      "(1, 2) 1\n"
     ]
    }
   ],
   "source": [
    "def f(*a, b):\n",
    "    print(a, b)\n",
    "f(1,2,b = 1)"
   ]
  },
  {
   "cell_type": "markdown",
   "metadata": {},
   "source": [
    "## 11： 递归限制"
   ]
  },
  {
   "cell_type": "code",
   "execution_count": 40,
   "metadata": {},
   "outputs": [
    {
     "name": "stdout",
     "output_type": "stream",
     "text": [
      "I recursed 2968 times\n"
     ]
    }
   ],
   "source": [
    "def cursing(depth):\n",
    "    try:\n",
    "        cursing(depth + 1)\n",
    "        \n",
    "    except RuntimeError as RE:\n",
    "        print('I recursed {} times'.format(depth))\n",
    "        \n",
    "cursing(0)"
   ]
  },
  {
   "cell_type": "markdown",
   "metadata": {},
   "source": [
    "创建递归lambda函数的一种方法涉及到将函数分配给变量，然后在函数本身中引用该变量"
   ]
  },
  {
   "cell_type": "code",
   "execution_count": 41,
   "metadata": {},
   "outputs": [
    {
     "data": {
      "text/plain": [
       "24"
      ]
     },
     "execution_count": 41,
     "metadata": {},
     "output_type": "execute_result"
    }
   ],
   "source": [
    "lambda_farctorial = lambda i: 1 if i == 0 else i * lambda_farctorial(i - 1)\n",
    "lambda_farctorial(4)"
   ]
  },
  {
   "cell_type": "code",
   "execution_count": 43,
   "metadata": {},
   "outputs": [],
   "source": [
    "def unpaking(a, b, c = 45, d = 60, *args, **kwargs):\n",
    "    print(a, b, c, d, args, kwargs)\n"
   ]
  },
  {
   "cell_type": "code",
   "execution_count": 44,
   "metadata": {},
   "outputs": [
    {
     "name": "stdout",
     "output_type": "stream",
     "text": [
      "1 2 45 60 () {}\n"
     ]
    }
   ],
   "source": [
    "unpaking(1,2)"
   ]
  },
  {
   "cell_type": "code",
   "execution_count": 45,
   "metadata": {},
   "outputs": [
    {
     "name": "stdout",
     "output_type": "stream",
     "text": [
      "1 2 3 4 () {}\n"
     ]
    }
   ],
   "source": [
    "unpaking(1,2,3,4)"
   ]
  },
  {
   "cell_type": "code",
   "execution_count": 46,
   "metadata": {},
   "outputs": [
    {
     "name": "stdout",
     "output_type": "stream",
     "text": [
      "1 2 2 4 () {}\n"
     ]
    }
   ],
   "source": [
    "unpaking(1,2,c=2, d=4)"
   ]
  },
  {
   "cell_type": "code",
   "execution_count": 47,
   "metadata": {},
   "outputs": [
    {
     "name": "stdout",
     "output_type": "stream",
     "text": [
      "1 2 3 4 () {}\n"
     ]
    }
   ],
   "source": [
    "pair = (3, )\n",
    "unpaking(1,2,*pair, d = 4)"
   ]
  },
  {
   "cell_type": "code",
   "execution_count": 48,
   "metadata": {},
   "outputs": [
    {
     "name": "stdout",
     "output_type": "stream",
     "text": [
      "1 2 3 4 () {}\n"
     ]
    }
   ],
   "source": [
    "unpaking(1,2, d = 4, *pair)"
   ]
  },
  {
   "cell_type": "code",
   "execution_count": 49,
   "metadata": {},
   "outputs": [
    {
     "ename": "TypeError",
     "evalue": "unpaking() got multiple values for argument 'c'",
     "output_type": "error",
     "traceback": [
      "\u001b[1;31m---------------------------------------------------------------------------\u001b[0m",
      "\u001b[1;31mTypeError\u001b[0m                                 Traceback (most recent call last)",
      "\u001b[1;32m<ipython-input-49-642f4e830331>\u001b[0m in \u001b[0;36m<module>\u001b[1;34m()\u001b[0m\n\u001b[1;32m----> 1\u001b[1;33m \u001b[0munpaking\u001b[0m\u001b[1;33m(\u001b[0m\u001b[1;36m1\u001b[0m\u001b[1;33m,\u001b[0m\u001b[1;36m2\u001b[0m\u001b[1;33m,\u001b[0m \u001b[1;33m*\u001b[0m\u001b[0mpair\u001b[0m\u001b[1;33m,\u001b[0m \u001b[0mc\u001b[0m \u001b[1;33m=\u001b[0m \u001b[1;36m4\u001b[0m\u001b[1;33m)\u001b[0m\u001b[1;33m\u001b[0m\u001b[0m\n\u001b[0m",
      "\u001b[1;31mTypeError\u001b[0m: unpaking() got multiple values for argument 'c'"
     ]
    }
   ],
   "source": [
    "unpaking(1,2, *pair, c = 4)"
   ]
  },
  {
   "cell_type": "code",
   "execution_count": 50,
   "metadata": {},
   "outputs": [
    {
     "ename": "TypeError",
     "evalue": "unpaking() got multiple values for argument 'c'",
     "output_type": "error",
     "traceback": [
      "\u001b[1;31m---------------------------------------------------------------------------\u001b[0m",
      "\u001b[1;31mTypeError\u001b[0m                                 Traceback (most recent call last)",
      "\u001b[1;32m<ipython-input-50-e02f3578a1be>\u001b[0m in \u001b[0;36m<module>\u001b[1;34m()\u001b[0m\n\u001b[1;32m----> 1\u001b[1;33m \u001b[0munpaking\u001b[0m\u001b[1;33m(\u001b[0m\u001b[1;36m1\u001b[0m\u001b[1;33m,\u001b[0m\u001b[1;36m2\u001b[0m\u001b[1;33m,\u001b[0m \u001b[0mc\u001b[0m \u001b[1;33m=\u001b[0m \u001b[1;36m4\u001b[0m\u001b[1;33m,\u001b[0m \u001b[1;33m*\u001b[0m\u001b[0mpair\u001b[0m\u001b[1;33m)\u001b[0m\u001b[1;33m\u001b[0m\u001b[0m\n\u001b[0m",
      "\u001b[1;31mTypeError\u001b[0m: unpaking() got multiple values for argument 'c'"
     ]
    }
   ],
   "source": [
    "unpaking(1,2, c = 4, *pair)"
   ]
  },
  {
   "cell_type": "code",
   "execution_count": 51,
   "metadata": {},
   "outputs": [
    {
     "data": {
      "text/plain": [
       "(3,)"
      ]
     },
     "execution_count": 51,
     "metadata": {},
     "output_type": "execute_result"
    }
   ],
   "source": [
    "pair"
   ]
  },
  {
   "cell_type": "code",
   "execution_count": 52,
   "metadata": {},
   "outputs": [
    {
     "name": "stdout",
     "output_type": "stream",
     "text": [
      "1 2 c d () {}\n"
     ]
    }
   ],
   "source": [
    "arg_dic = {'c': 3, 'd': 4}\n",
    "\n",
    "unpaking(1,2,*arg_dic)"
   ]
  },
  {
   "cell_type": "code",
   "execution_count": 53,
   "metadata": {},
   "outputs": [
    {
     "name": "stdout",
     "output_type": "stream",
     "text": [
      "1 2 3 4 () {}\n"
     ]
    }
   ],
   "source": [
    "unpaking(1,2,**arg_dic)"
   ]
  },
  {
   "cell_type": "code",
   "execution_count": 54,
   "metadata": {},
   "outputs": [
    {
     "name": "stdout",
     "output_type": "stream",
     "text": [
      "1 2 3 4 () {'no_a_parameter': 75}\n"
     ]
    }
   ],
   "source": [
    "arg_dic = {'c':3, 'd':4, 'no_a_parameter': 75}\n",
    "unpaking(1,2, **arg_dic)"
   ]
  },
  {
   "cell_type": "markdown",
   "metadata": {},
   "source": [
    "## 偏函数"
   ]
  },
  {
   "cell_type": "code",
   "execution_count": 56,
   "metadata": {},
   "outputs": [],
   "source": [
    "def raise_power(x, y):\n",
    "    return x ** y\n",
    "\n",
    "def raise_f(x, y):\n",
    "    if y in (3,4,5):\n",
    "        return x ** y\n",
    "    raise NumberNotInRangeException('You should provide a valid exponent')"
   ]
  },
  {
   "cell_type": "code",
   "execution_count": 58,
   "metadata": {},
   "outputs": [],
   "source": [
    "from functools import partial\n",
    "\n",
    "raise_to_three = partial(raise_f, y = 3)\n",
    "raise_to_four = partial(raise_f, y = 4)\n",
    "raise_to_five = partial(raise_f, y = 5)"
   ]
  },
  {
   "cell_type": "code",
   "execution_count": 59,
   "metadata": {},
   "outputs": [
    {
     "data": {
      "text/plain": [
       "8"
      ]
     },
     "execution_count": 59,
     "metadata": {},
     "output_type": "execute_result"
    }
   ],
   "source": [
    "raise_to_three(2)"
   ]
  },
  {
   "cell_type": "markdown",
   "metadata": {},
   "source": [
    "这里发生了什么？我们修正了y的参数，定义了三个不同的函数。"
   ]
  },
  {
   "cell_type": "code",
   "execution_count": null,
   "metadata": {},
   "outputs": [],
   "source": []
  }
 ],
 "metadata": {
  "kernelspec": {
   "display_name": "Python 3",
   "language": "python",
   "name": "python3"
  },
  "language_info": {
   "codemirror_mode": {
    "name": "ipython",
    "version": 3
   },
   "file_extension": ".py",
   "mimetype": "text/x-python",
   "name": "python",
   "nbconvert_exporter": "python",
   "pygments_lexer": "ipython3",
   "version": "3.7.0"
  }
 },
 "nbformat": 4,
 "nbformat_minor": 2
}
