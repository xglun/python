{
 "cells": [
  {
   "cell_type": "markdown",
   "metadata": {},
   "source": [
    "参数：\n",
    "\n",
    "- 任何可迭代对象\n",
    "\n",
    "- key：用于对可迭代器的函数"
   ]
  },
  {
   "cell_type": "code",
   "execution_count": 2,
   "metadata": {},
   "outputs": [
    {
     "data": {
      "text/plain": [
       "{'animal': [('animal', 'bear'), ('animal', 'duck')],\n",
       " 'plant': [('plant', 'cactus')],\n",
       " 'vehicle': [('vehicle', 'harley'),\n",
       "  ('vehicle', 'speed boat'),\n",
       "  ('vehicle', 'school bus')]}"
      ]
     },
     "execution_count": 2,
     "metadata": {},
     "output_type": "execute_result"
    }
   ],
   "source": [
    "from itertools import groupby\n",
    "\n",
    "things = [('animal', 'bear'), ('animal', 'duck'), ('plant', 'cactus'), \n",
    "         ('vehicle', 'harley'), ('vehicle', 'speed boat'), ('vehicle', 'school bus')]\n",
    "dic = {}\n",
    "f = lambda x: x[0]\n",
    "for key, group in groupby(sorted(things, key = f), f):\n",
    "    dic[key] = list(group)\n",
    "dic"
   ]
  },
  {
   "cell_type": "code",
   "execution_count": 4,
   "metadata": {},
   "outputs": [
    {
     "name": "stdout",
     "output_type": "stream",
     "text": [
      "('animal', <itertools._grouper object at 0x0000016597785710>)\n",
      "('plant', <itertools._grouper object at 0x0000016597785748>)\n",
      "('vehicle', <itertools._grouper object at 0x0000016597785C18>)\n"
     ]
    }
   ],
   "source": [
    "for i in groupby(sorted(things, key = f), f):\n",
    "    print(i)\n"
   ]
  },
  {
   "cell_type": "markdown",
   "metadata": {},
   "source": [
    "例2：当没有指定键值时"
   ]
  },
  {
   "cell_type": "code",
   "execution_count": 5,
   "metadata": {},
   "outputs": [
    {
     "data": {
      "text/plain": [
       "{'goal': ['goal'],\n",
       " 1: [1],\n",
       " 2: [2],\n",
       " 3: [3],\n",
       " 4: [4, 4],\n",
       " ('er', 'sdf'): [('er', 'sdf')]}"
      ]
     },
     "execution_count": 5,
     "metadata": {},
     "output_type": "execute_result"
    }
   ],
   "source": [
    "c = groupby(['goal', 1,2,3, 4,4,('er', 'sdf')])\n",
    "dic = {}\n",
    "for key, value in c:\n",
    "    dic[key] = list(value)\n",
    "    \n",
    "dic"
   ]
  },
  {
   "cell_type": "markdown",
   "metadata": {},
   "source": [
    "例3 ：指定按第一个元素来分组"
   ]
  },
  {
   "cell_type": "code",
   "execution_count": 6,
   "metadata": {},
   "outputs": [
    {
     "data": {
      "text/plain": [
       "{'g': ['goat'],\n",
       " 'd': ['dog', 'donkey'],\n",
       " 'm': ['mulato'],\n",
       " 'persons': [('persons', 'man')]}"
      ]
     },
     "execution_count": 6,
     "metadata": {},
     "output_type": "execute_result"
    }
   ],
   "source": [
    "list_things = ['goat', 'dog','donkey', 'mulato', \n",
    "              ('persons', 'man')]\n",
    "c = groupby(list_things, key = lambda x:x[0])\n",
    "dic = {}\n",
    "for k, v in c:\n",
    "    dic[k] = list(v)\n",
    "dic"
   ]
  },
  {
   "cell_type": "markdown",
   "metadata": {},
   "source": [
    "当分组后，键值已经自动排序了"
   ]
  },
  {
   "cell_type": "code",
   "execution_count": 2,
   "metadata": {},
   "outputs": [
    {
     "data": {
      "text/plain": [
       "[('a', <itertools._grouper at 0x16cbe85e6a0>)]"
      ]
     },
     "execution_count": 2,
     "metadata": {},
     "output_type": "execute_result"
    }
   ],
   "source": [
    "from itertools import groupby\n",
    "\n",
    "\n",
    "a = [['a', 'b'], ['a', 'c']]\n",
    "list(groupby(a, key=lambda x: x[0]))\n"
   ]
  },
  {
   "cell_type": "code",
   "execution_count": null,
   "metadata": {},
   "outputs": [],
   "source": []
  }
 ],
 "metadata": {
  "kernelspec": {
   "display_name": "Python 3",
   "language": "python",
   "name": "python3"
  },
  "language_info": {
   "codemirror_mode": {
    "name": "ipython",
    "version": 3
   },
   "file_extension": ".py",
   "mimetype": "text/x-python",
   "name": "python",
   "nbconvert_exporter": "python",
   "pygments_lexer": "ipython3",
   "version": "3.7.0"
  }
 },
 "nbformat": 4,
 "nbformat_minor": 2
}
