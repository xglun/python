{
 "cells": [
  {
   "cell_type": "markdown",
   "metadata": {},
   "source": [
    "## 装饰器"
   ]
  },
  {
   "cell_type": "code",
   "execution_count": 1,
   "metadata": {},
   "outputs": [],
   "source": [
    "def print_args(func):\n",
    "    \n",
    "    def inner_func(*args, **kwargs):\n",
    "        print(args)\n",
    "        print(kwargs)\n",
    "        return func(*args, **kwargs)\n",
    "        \n",
    "    return inner_func"
   ]
  },
  {
   "cell_type": "code",
   "execution_count": 3,
   "metadata": {},
   "outputs": [
    {
     "name": "stdout",
     "output_type": "stream",
     "text": [
      "(3, 5)\n",
      "{}\n"
     ]
    },
    {
     "data": {
      "text/plain": [
       "15"
      ]
     },
     "execution_count": 3,
     "metadata": {},
     "output_type": "execute_result"
    }
   ],
   "source": [
    "@print_args\n",
    "def multiply(num_a, num_b):\n",
    "    return num_a * num_b\n",
    "\n",
    "multiply(3,5)"
   ]
  },
  {
   "cell_type": "markdown",
   "metadata": {},
   "source": [
    "## 装饰类\n",
    "\n",
    "- `__call__`"
   ]
  },
  {
   "cell_type": "code",
   "execution_count": 4,
   "metadata": {},
   "outputs": [
    {
     "name": "stdout",
     "output_type": "stream",
     "text": [
      "before\n",
      "Inside the function\n",
      "after\n"
     ]
    }
   ],
   "source": [
    "class Decorator:\n",
    "    \n",
    "    def __init__(self, func):\n",
    "        self.func = func\n",
    "        \n",
    "    def __call__(self, *args, **kwargs):\n",
    "        print('before')\n",
    "        res = self.func(*args, **kwargs)\n",
    "        print('after')\n",
    "        return res\n",
    "\n",
    "    \n",
    "@Decorator\n",
    "def testfunc():\n",
    "    print('Inside the function')\n",
    "    \n",
    "testfunc()"
   ]
  },
  {
   "cell_type": "markdown",
   "metadata": {},
   "source": [
    "被类装饰器修饰的函数将不再时函数"
   ]
  },
  {
   "cell_type": "code",
   "execution_count": 5,
   "metadata": {},
   "outputs": [
    {
     "data": {
      "text/plain": [
       "False"
      ]
     },
     "execution_count": 5,
     "metadata": {},
     "output_type": "execute_result"
    }
   ],
   "source": [
    "import types\n",
    "\n",
    "isinstance(testfunc, types.FunctionType)"
   ]
  },
  {
   "cell_type": "code",
   "execution_count": 6,
   "metadata": {},
   "outputs": [
    {
     "data": {
      "text/plain": [
       "__main__.Decorator"
      ]
     },
     "execution_count": 6,
     "metadata": {},
     "output_type": "execute_result"
    }
   ],
   "source": [
    "type(testfunc)"
   ]
  },
  {
   "cell_type": "markdown",
   "metadata": {},
   "source": [
    "## Decorating Methods\n",
    "\n",
    "对于装饰方法，需要定义一个`__get__`方法"
   ]
  },
  {
   "cell_type": "code",
   "execution_count": 9,
   "metadata": {},
   "outputs": [
    {
     "name": "stdout",
     "output_type": "stream",
     "text": [
      "Inside the decorator\n"
     ]
    }
   ],
   "source": [
    "from types import MethodType\n",
    "\n",
    "class Decorator:\n",
    "    def __init__(self, func):\n",
    "        self.func = func\n",
    "        \n",
    "    def __call__(self, *args, **kwargs):\n",
    "        print('Inside the decorator')\n",
    "        return self.func(*args, **kwargs)\n",
    "    \n",
    "    def __get__(self, instance, cls):\n",
    "        # return a Method if it is called on an instance\n",
    "        return self if instance is None else MethodType(self, instance)\n",
    "    \n",
    "class Test:\n",
    "    @Decorator\n",
    "    def __init__(self):\n",
    "        pass\n",
    "    \n",
    "a = Test()\n",
    "\n",
    "\n",
    "######################\n",
    "#################3####\n",
    "######################"
   ]
  },
  {
   "cell_type": "code",
   "execution_count": 10,
   "metadata": {},
   "outputs": [],
   "source": [
    "from types import MethodType\n",
    "\n",
    "class Decorator:\n",
    "    def __init__(self, func):\n",
    "        self.func = func\n",
    "        self.ncall = 0\n",
    "        \n",
    "    def __call__(self, *args, **kwargs):\n",
    "        print('I have done')\n",
    "        self.ncall += 1\n",
    "        return self.func(*args, **kwargs)\n",
    "    \n",
    "    def __get__(self, instance, cls):\n",
    "        # return a Method if it is called on an instance\n",
    "        return self if instance is None else MethodType(self, instance)\n",
    "    \n",
    "class Test:\n",
    "    \n",
    "    def __init__(self):\n",
    "        print('test_init have been done')\n",
    "        \n",
    "    @Decorator\n",
    "    def do_something(self):\n",
    "        return 'something was done'\n",
    "    \n",
    "    "
   ]
  },
  {
   "cell_type": "code",
   "execution_count": 11,
   "metadata": {},
   "outputs": [
    {
     "name": "stdout",
     "output_type": "stream",
     "text": [
      "test_init have been done\n"
     ]
    }
   ],
   "source": [
    "a = Test()"
   ]
  },
  {
   "cell_type": "code",
   "execution_count": 12,
   "metadata": {},
   "outputs": [
    {
     "name": "stdout",
     "output_type": "stream",
     "text": [
      "I have done\n"
     ]
    },
    {
     "data": {
      "text/plain": [
       "'something was done'"
      ]
     },
     "execution_count": 12,
     "metadata": {},
     "output_type": "execute_result"
    }
   ],
   "source": [
    "a.do_something()"
   ]
  },
  {
   "cell_type": "code",
   "execution_count": 13,
   "metadata": {},
   "outputs": [
    {
     "data": {
      "text/plain": [
       "1"
      ]
     },
     "execution_count": 13,
     "metadata": {},
     "output_type": "execute_result"
    }
   ],
   "source": [
    "a.do_something.ncall"
   ]
  },
  {
   "cell_type": "code",
   "execution_count": 14,
   "metadata": {},
   "outputs": [
    {
     "name": "stdout",
     "output_type": "stream",
     "text": [
      "test_init have been done\n"
     ]
    }
   ],
   "source": [
    "b = Test()"
   ]
  },
  {
   "cell_type": "code",
   "execution_count": 15,
   "metadata": {},
   "outputs": [
    {
     "name": "stdout",
     "output_type": "stream",
     "text": [
      "I have done\n"
     ]
    },
    {
     "data": {
      "text/plain": [
       "'something was done'"
      ]
     },
     "execution_count": 15,
     "metadata": {},
     "output_type": "execute_result"
    }
   ],
   "source": [
    "b.do_something()"
   ]
  },
  {
   "cell_type": "code",
   "execution_count": 16,
   "metadata": {},
   "outputs": [
    {
     "data": {
      "text/plain": [
       "2"
      ]
     },
     "execution_count": 16,
     "metadata": {},
     "output_type": "execute_result"
    }
   ],
   "source": [
    "b.do_something.ncall"
   ]
  },
  {
   "cell_type": "markdown",
   "metadata": {},
   "source": [
    "## 3: decorator with arguments(decorator factory)\n"
   ]
  },
  {
   "cell_type": "code",
   "execution_count": 17,
   "metadata": {},
   "outputs": [
    {
     "name": "stdout",
     "output_type": "stream",
     "text": [
      "the decorator wants to tell you: hello world\n"
     ]
    }
   ],
   "source": [
    "def decoratorfactory(message):\n",
    "    \n",
    "    def decorator(func):\n",
    "        \n",
    "        def wrapped_func(*args, **kwargs):\n",
    "            print('the decorator wants to tell you: {}'.format(message))\n",
    "            return func(*args, **kwargs)\n",
    "        return wrapped_func\n",
    "    return decorator\n",
    "\n",
    "@decoratorfactory('hello world')\n",
    "def test():\n",
    "    pass\n",
    "\n",
    "test()"
   ]
  },
  {
   "cell_type": "code",
   "execution_count": 18,
   "metadata": {},
   "outputs": [],
   "source": [
    "def getx(self):\n",
    "    return self._x\n",
    "\n",
    "def setx(self, value):\n",
    "    self._x = value\n",
    "    \n",
    "def delx(self):\n",
    "   del self._x\n",
    "\n",
    "# create a property\n",
    "x = property(getx, setx, delx, \"I am doc for x property\")"
   ]
  },
  {
   "cell_type": "code",
   "execution_count": 19,
   "metadata": {},
   "outputs": [
    {
     "data": {
      "text/plain": [
       "<property at 0x176a374cd68>"
      ]
     },
     "execution_count": 19,
     "metadata": {},
     "output_type": "execute_result"
    }
   ],
   "source": [
    "x\n"
   ]
  }
 ],
 "metadata": {
  "kernelspec": {
   "display_name": "Python 3",
   "language": "python",
   "name": "python3"
  },
  "language_info": {
   "codemirror_mode": {
    "name": "ipython",
    "version": 3
   },
   "file_extension": ".py",
   "mimetype": "text/x-python",
   "name": "python",
   "nbconvert_exporter": "python",
   "pygments_lexer": "ipython3",
   "version": "3.7.0"
  }
 },
 "nbformat": 4,
 "nbformat_minor": 2
}
