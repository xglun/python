{
 "cells": [
  {
   "cell_type": "code",
   "execution_count": 3,
   "metadata": {},
   "outputs": [
    {
     "name": "stdout",
     "output_type": "stream",
     "text": [
      "{'a': 1, 'b': 5}\n",
      "{'a': 1, 'b': 5}\n",
      "{'a': 1000, 'b': 5}\n",
      "{'a': 1, 'b': 5}\n",
      "{'a': 100, 'b': 200, 'c': 300}\n"
     ]
    }
   ],
   "source": [
    "a = {'a': 1, 'b': 5}\n",
    "print(a)\n",
    "\n",
    "\n",
    "## make a shallow copy of otherdict\n",
    "b = {**a}\n",
    "print(b)\n",
    "b['a'] = 1000\n",
    "print(b)\n",
    "print(a)\n",
    "\n",
    "## also updates the shallow copy with the contents of yetnotherdict\n",
    "a = {'a': 100, 'b': 200}\n",
    "b = {'c': 300}\n",
    "c = {**a, **b}\n",
    "print(c)"
   ]
  },
  {
   "cell_type": "code",
   "execution_count": 4,
   "metadata": {},
   "outputs": [
    {
     "name": "stdout",
     "output_type": "stream",
     "text": [
      "{'key': 'values'}\n"
     ]
    }
   ],
   "source": [
    "d = {k:v for k, v in [('key', 'values', )]}\n",
    "print(d)"
   ]
  },
  {
   "cell_type": "code",
   "execution_count": 5,
   "metadata": {},
   "outputs": [
    {
     "name": "stdout",
     "output_type": "stream",
     "text": [
      "1 2 3\n",
      "4 5 6\n"
     ]
    }
   ],
   "source": [
    "for i, j, k in ([1,2,3], [4,5,6]):\n",
    "    print(i, j ,k)\n",
    "    \n",
    "# 列表和元组都可以这样循环"
   ]
  },
  {
   "cell_type": "code",
   "execution_count": 6,
   "metadata": {},
   "outputs": [
    {
     "name": "stdout",
     "output_type": "stream",
     "text": [
      "{'key': 'value'}\n",
      "{'key': 'value'}\n"
     ]
    }
   ],
   "source": [
    "d = dict()\n",
    "d = dict(key = 'value')\n",
    "print(d)\n",
    "d = dict([('key', 'value')])\n",
    "print(d)"
   ]
  },
  {
   "cell_type": "markdown",
   "metadata": {},
   "source": [
    "## 避免keyerror"
   ]
  },
  {
   "cell_type": "code",
   "execution_count": 11,
   "metadata": {},
   "outputs": [
    {
     "name": "stdout",
     "output_type": "stream",
     "text": [
      "{}\n",
      "bar\n",
      "{}\n",
      "bar\n",
      "{'foo': 'bar'}\n",
      "default_value\n"
     ]
    }
   ],
   "source": [
    "mydict = {}\n",
    "# mydict['not there']  会报错\n",
    "\n",
    "print(mydict)\n",
    "\n",
    "# 不改变dict\n",
    "print(mydict.get('foo', 'bar'))\n",
    "print(mydict)\n",
    "\n",
    "# 改变dict, 如果没有foo， 则添加键值对'foo:bar\"\n",
    "print(mydict.setdefault('foo', 'bar'))\n",
    "print(mydict)\n",
    "\n",
    "mydict = {}\n",
    "try:\n",
    "    value = mydict['key']\n",
    "except KeyError:\n",
    "    value = 'default_value'\n",
    "    \n",
    "print(value)\n",
    "\n",
    "if key in mydict:\n",
    "    value = mydict[key]\n",
    "else:\n",
    "    value = 1\n"
   ]
  },
  {
   "cell_type": "markdown",
   "metadata": {},
   "source": [
    "## 4:具有默认值的字典\n"
   ]
  },
  {
   "cell_type": "code",
   "execution_count": 12,
   "metadata": {},
   "outputs": [
    {
     "name": "stdout",
     "output_type": "stream",
     "text": [
      "defaultdict(<class 'int'>, {})\n",
      "0\n",
      "full\n"
     ]
    }
   ],
   "source": [
    "from collections import defaultdict\n",
    "d = defaultdict(int)\n",
    "print(d)\n",
    "print(d['key'])\n",
    "d['key'] = 'full'\n",
    "print(d['key'])"
   ]
  },
  {
   "cell_type": "markdown",
   "metadata": {},
   "source": [
    "如果一定要使用内建的dict类，使用`dict.setdefault()`创造一个默认值，当你使用字典中没有的元素时。"
   ]
  },
  {
   "cell_type": "code",
   "execution_count": 13,
   "metadata": {},
   "outputs": [
    {
     "name": "stdout",
     "output_type": "stream",
     "text": [
      "{'another_key': ['this worked']}\n"
     ]
    }
   ],
   "source": [
    "d = {}\n",
    "d.setdefault('another_key', []).append('this worked')\n",
    "print(d)"
   ]
  },
  {
   "cell_type": "code",
   "execution_count": 22,
   "metadata": {},
   "outputs": [
    {
     "name": "stdout",
     "output_type": "stream",
     "text": [
      "{}\n"
     ]
    }
   ],
   "source": [
    "a = {}\n",
    "b = ['a', 'b', 'c']\n",
    "c = [1,2,4]\n",
    "for i, j in zip(b,c):\n",
    "    a.get(i, 0) + j\n",
    "print(a)\n"
   ]
  },
  {
   "cell_type": "markdown",
   "metadata": {},
   "source": [
    "## 合并"
   ]
  },
  {
   "cell_type": "code",
   "execution_count": 20,
   "metadata": {},
   "outputs": [
    {
     "name": "stdout",
     "output_type": "stream",
     "text": [
      "{'a': 1, 'b': 2, 'c': 5, 'd': 6}\n"
     ]
    },
    {
     "data": {
      "text/plain": [
       "{'a': 1, 'b': 2, 'c': 5, 'd': 6}"
      ]
     },
     "execution_count": 20,
     "metadata": {},
     "output_type": "execute_result"
    }
   ],
   "source": [
    "a = {'a':1, 'b':2}\n",
    "b = {'c':5, 'd':6}\n",
    "\n",
    "c = {**a, **b}\n",
    "print(c)\n",
    "\n",
    "from itertools import chain\n",
    "dict(chain(a.items(), b.items()))"
   ]
  },
  {
   "cell_type": "markdown",
   "metadata": {},
   "source": [
    "## 创建字典的规则\n",
    "\n",
    "- key 要是不可变量\n",
    "\n",
    "- 字典是无序的"
   ]
  },
  {
   "cell_type": "code",
   "execution_count": 30,
   "metadata": {},
   "outputs": [
    {
     "name": "stdout",
     "output_type": "stream",
     "text": [
      "{1: 1}\n",
      "{'eggs': 5}\n",
      "{'a': [1, 23, 4]}\n",
      "{'eggs': 5, 'milk': 2}\n",
      "{'eggs': 5, 'milk': 2}\n",
      "{'milk': None, 'eggs': None}\n",
      "{'milk': (2, 5), 'eggs': (2, 5)}\n"
     ]
    }
   ],
   "source": [
    "d = {1:1}\n",
    "print(d)\n",
    "\n",
    "stock = {'eggs':5}\n",
    "dictitonary = {}\n",
    "\n",
    "dictitonary['eggs'] = 5\n",
    "print(dictitonary)\n",
    "\n",
    "# values can also be lists\n",
    "mydict = {'a': [1,23,4]}\n",
    "print(mydict)\n",
    "\n",
    "# we can also creat a dictionary using a list of two-items tuples\n",
    "iterable = [('eggs', 5), ('milk', 2)]\n",
    "d = dict(iterable)\n",
    "print(d)\n",
    "\n",
    "dd = dict(eggs = 5, milk = 2)\n",
    "print(dd)\n",
    "\n",
    "d = dict.fromkeys(('milk', 'eggs'))\n",
    "print(d)\n",
    "d = dict.fromkeys(('milk', 'eggs'), (2,5))\n",
    "print(d)"
   ]
  },
  {
   "cell_type": "markdown",
   "metadata": {},
   "source": [
    "## 9: 创建一个有序字典\n"
   ]
  },
  {
   "cell_type": "code",
   "execution_count": 33,
   "metadata": {},
   "outputs": [
    {
     "name": "stdout",
     "output_type": "stream",
     "text": [
      "first 1\n",
      "second 2\n",
      "third 3\n",
      "last 4\n"
     ]
    }
   ],
   "source": [
    "from collections import OrderedDict\n",
    "d = OrderedDict()\n",
    "d['first'] = 1\n",
    "d['second'] = 2\n",
    "d['third'] = 3\n",
    "d['last'] = 4\n",
    "for key in d:\n",
    "    print(key, d[key])"
   ]
  },
  {
   "cell_type": "code",
   "execution_count": null,
   "metadata": {},
   "outputs": [],
   "source": []
  }
 ],
 "metadata": {
  "kernelspec": {
   "display_name": "Python 3",
   "language": "python",
   "name": "python3"
  },
  "language_info": {
   "codemirror_mode": {
    "name": "ipython",
    "version": 3
   },
   "file_extension": ".py",
   "mimetype": "text/x-python",
   "name": "python",
   "nbconvert_exporter": "python",
   "pygments_lexer": "ipython3",
   "version": "3.7.0"
  }
 },
 "nbformat": 4,
 "nbformat_minor": 2
}
