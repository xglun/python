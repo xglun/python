{
 "cells": [
  {
   "cell_type": "markdown",
   "metadata": {},
   "source": [
    "## 1 在集合上的一些操作\n",
    "\n",
    "- 和其他一些集合"
   ]
  },
  {
   "cell_type": "code",
   "execution_count": 14,
   "metadata": {},
   "outputs": [
    {
     "data": {
      "text/plain": [
       "False"
      ]
     },
     "execution_count": 14,
     "metadata": {},
     "output_type": "execute_result"
    }
   ],
   "source": [
    "set1 = {1,2,3,4,5}\n",
    "set2 = {3,4,5,6}\n",
    "\n",
    "\n",
    "# 交集\n",
    "{1,2,3,4,5}.intersection({3,4,5})\n",
    "{1,2,3,4,5} & {3,4,5,6}\n",
    "\n",
    "# 并集\n",
    "{1,2,3,4,5}.union({3,4,5,6})\n",
    "set1 | set2\n",
    "\n",
    "# 差集\n",
    "set1.difference(set2)\n",
    "set1 - set2\n",
    "\n",
    "# 对称差分和\n",
    "set1.symmetric_difference(set2)\n",
    "set1 ^ set2\n",
    "\n",
    "# 包含关系\n",
    "{1,2}.issuperset({1,2,3})\n",
    "{1,2} >= {1,2,3}\n",
    "\n",
    "{1,2}.issubset({1,2,3})\n",
    "{1,2} <= {1,2,3}\n",
    "\n",
    "# 不相交检测\n",
    "{1,2}.isdisjoint({3,4})\n",
    "{1,2}.isdisjoint({1,4})"
   ]
  },
  {
   "cell_type": "markdown",
   "metadata": {},
   "source": [
    "- 与单一元素"
   ]
  },
  {
   "cell_type": "code",
   "execution_count": 21,
   "metadata": {},
   "outputs": [
    {
     "name": "stdout",
     "output_type": "stream",
     "text": [
      "True\n",
      "False\n",
      "False\n",
      "{1, 2, 4}\n"
     ]
    }
   ],
   "source": [
    "# 是否存在这个元素\n",
    "print(1 in set1)\n",
    "print(6 in set1)\n",
    "print(not 1 in set1)\n",
    "\n",
    "# 添加移除元素\n",
    "s = {1,2,3}\n",
    "s.add(4)\n",
    "\n",
    "s.discard(3)\n",
    "s.discard(5)\n",
    "print(s)\n",
    "\n",
    "s.remove(2)\n",
    "# s.remove(2)       # 当集合中没有要移除的元素是remove会报错\n",
    "\n",
    "\n",
    "## s \\= t"
   ]
  },
  {
   "cell_type": "markdown",
   "metadata": {},
   "source": [
    "集合操作返回新的集合"
   ]
  },
  {
   "cell_type": "markdown",
   "metadata": {},
   "source": [
    "## 2. 得到列表中唯一的元素\n",
    "\n",
    "假设你得到了一个酒店的列表--从一个文件中读取的。你想要得到唯一的元素。最好的方式将列表转换为集合"
   ]
  },
  {
   "cell_type": "code",
   "execution_count": 22,
   "metadata": {},
   "outputs": [
    {
     "name": "stdout",
     "output_type": "stream",
     "text": [
      "{'Chicken Chicken', 'Burger King', 'McDonalds'}\n"
     ]
    }
   ],
   "source": [
    "restaurants = ['McDonalds', 'Burger King', 'McDonalds', 'Chicken Chicken']\n",
    "unique_restaurants = set(restaurants)\n",
    "print(unique_restaurants)"
   ]
  },
  {
   "cell_type": "markdown",
   "metadata": {},
   "source": [
    "注意的是生成的集合和原来的列表的元素的顺序是不一样的，这是因为集合是无序的，就像字典一样\n",
    "\n"
   ]
  },
  {
   "cell_type": "code",
   "execution_count": 23,
   "metadata": {},
   "outputs": [
    {
     "data": {
      "text/plain": [
       "['Chicken Chicken', 'Burger King', 'McDonalds']"
      ]
     },
     "execution_count": 23,
     "metadata": {},
     "output_type": "execute_result"
    }
   ],
   "source": [
    "list(unique_restaurants)"
   ]
  },
  {
   "cell_type": "markdown",
   "metadata": {},
   "source": [
    "## 3.集合中的集合"
   ]
  },
  {
   "cell_type": "code",
   "execution_count": 25,
   "metadata": {},
   "outputs": [
    {
     "data": {
      "text/plain": [
       "{frozenset({3, 4}), frozenset({1, 2})}"
      ]
     },
     "execution_count": 25,
     "metadata": {},
     "output_type": "execute_result"
    }
   ],
   "source": [
    "# {{1,2}, {3,4}}   ## 这样会报错\n",
    "{frozenset({1,2}), frozenset({3,4})}"
   ]
  },
  {
   "cell_type": "markdown",
   "metadata": {},
   "source": [
    "## 4.使用方法和内嵌函数来进行结合操作"
   ]
  },
  {
   "cell_type": "code",
   "execution_count": 34,
   "metadata": {},
   "outputs": [
    {
     "data": {
      "text/plain": [
       "True"
      ]
     },
     "execution_count": 34,
     "metadata": {},
     "output_type": "execute_result"
    }
   ],
   "source": [
    "a = {1,2,2,3,4}\n",
    "b = {3,3,4,4,5}\n",
    "a.intersection(b)\n",
    "a.union(b)\n",
    "a.difference(b)\n",
    "a.symmetric_difference(b)\n",
    "a.issuperset(b)\n",
    "a.issubset(b)\n",
    "a.isdisjoint(b)  # 是否不存在交集\n",
    "\n",
    "d = {5,6}\n",
    "len(a & d)\n",
    "a & d == set()"
   ]
  },
  {
   "cell_type": "markdown",
   "metadata": {},
   "source": [
    "## 5.集与多面集"
   ]
  },
  {
   "cell_type": "code",
   "execution_count": 35,
   "metadata": {},
   "outputs": [
    {
     "name": "stdout",
     "output_type": "stream",
     "text": [
      "{'a', 'b'}\n",
      "['a', 'b', 'b', 'c']\n",
      "Counter({'b': 2, 'a': 1, 'c': 1})\n"
     ]
    }
   ],
   "source": [
    "setA = {'a', 'b', 'b', 'b'}\n",
    "print(setA)\n",
    "\n",
    "listA = ['a', 'b', 'b', 'c']\n",
    "print(listA)\n",
    "\n",
    "from collections import Counter\n",
    "counterA = Counter(['a', 'b', 'b', 'c'])\n",
    "print(counterA)"
   ]
  },
  {
   "cell_type": "code",
   "execution_count": null,
   "metadata": {},
   "outputs": [],
   "source": []
  }
 ],
 "metadata": {
  "kernelspec": {
   "display_name": "Python 3",
   "language": "python",
   "name": "python3"
  },
  "language_info": {
   "codemirror_mode": {
    "name": "ipython",
    "version": 3
   },
   "file_extension": ".py",
   "mimetype": "text/x-python",
   "name": "python",
   "nbconvert_exporter": "python",
   "pygments_lexer": "ipython3",
   "version": "3.7.0"
  }
 },
 "nbformat": 4,
 "nbformat_minor": 2
}
