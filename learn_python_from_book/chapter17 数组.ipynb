{
 "cells": [
  {
   "cell_type": "markdown",
   "metadata": {},
   "source": [
    "- 数组不同于列表， 只能储存相同数据类型的值"
   ]
  },
  {
   "cell_type": "code",
   "execution_count": 8,
   "metadata": {},
   "outputs": [
    {
     "name": "stdout",
     "output_type": "stream",
     "text": [
      "array('i', [1, 2, 3, 4])\n",
      "2\n"
     ]
    }
   ],
   "source": [
    "from array import *\n",
    "\n",
    "my_array = array('i', [1,2,3,4])\n",
    "print(my_array)\n",
    "print(my_array[1])\n",
    "\n",
    "# i 时数组的名字"
   ]
  },
  {
   "cell_type": "markdown",
   "metadata": {},
   "source": [
    "## 数组的一些方法"
   ]
  },
  {
   "cell_type": "code",
   "execution_count": 19,
   "metadata": {},
   "outputs": [
    {
     "name": "stdout",
     "output_type": "stream",
     "text": [
      "array('i', [1, 2, 3, 4, 6])\n",
      "array('i', [0, 1, 2, 3, 4, 6])\n",
      "array('i', [0, 1, 2, 3, 4, 6, 4, 5, 6])\n",
      "array('i', [1, 23, 4, 4, 5, 6])\n",
      "array('i', [1, 4, 4, 5, 6])\n",
      "3\n",
      "array('i', [1, 4, 4, 5, 6])\n",
      "None\n"
     ]
    }
   ],
   "source": [
    "## 添加\n",
    "my_array = array('i', [1,2,3,4])\n",
    "my_array.append(6)\n",
    "print(my_array)\n",
    "\n",
    "## 插入值， insert\n",
    "my_array.insert(0, 0)\n",
    "print(my_array)\n",
    "\n",
    "## 扩展 extend\n",
    "my_array_2 = array('i', [4,5,6])\n",
    "my_array.extend(my_array_2)\n",
    "print(my_array)\n",
    "\n",
    "# 将列表添加到数组中 fromlist()\n",
    "my_array = array('i', [1,23,4])\n",
    "lst = [4,5,6]\n",
    "my_array.fromlist(lst)\n",
    "print(my_array)\n",
    "\n",
    "# 移除数组中的任意元素 remove()\n",
    "my_array.remove(23)\n",
    "print(my_array)\n",
    "\n",
    "## 从数组中取任意的元素的索引 index()\n",
    "print(my_array.index(5))\n",
    "print(my_array)\n",
    "## 反转python数组 reverse()\n",
    "print(my_array.reverse())"
   ]
  },
  {
   "cell_type": "code",
   "execution_count": 21,
   "metadata": {},
   "outputs": [
    {
     "name": "stdout",
     "output_type": "stream",
     "text": [
      "array('i', [4, 3, 1])\n"
     ]
    }
   ],
   "source": [
    "my_array = array('i', [1,3,4])\n",
    "my_array.reverse()\n",
    "print(my_array)"
   ]
  },
  {
   "cell_type": "code",
   "execution_count": 27,
   "metadata": {},
   "outputs": [
    {
     "name": "stdout",
     "output_type": "stream",
     "text": [
      "3\n",
      "array('u', 'gek')\n",
      "b'g\\x00e\\x00k\\x00'\n"
     ]
    }
   ],
   "source": [
    "## 获取数组的缓冲信息 buffer_info()\n",
    "my_array.buffer_info()\n",
    "\n",
    "## 返回元素出现的次数 count()\n",
    "my_array = array('i', [4,5,6,66,6,6])\n",
    "print(my_array.count(6))\n",
    "\n",
    "## 将数组转换成字符串\n",
    "my_char_array = array('u', ['g','e', 'k'])\n",
    "print(my_char_array)\n",
    "my_char_array = my_char_array.tostring()\n",
    "print(my_char_array)"
   ]
  },
  {
   "cell_type": "code",
   "execution_count": 28,
   "metadata": {},
   "outputs": [
    {
     "data": {
      "text/plain": [
       "[1, 23, 4]"
      ]
     },
     "execution_count": 28,
     "metadata": {},
     "output_type": "execute_result"
    }
   ],
   "source": [
    "## 将数组转换成列表 tolist()\n",
    "my_array = array('i', [1,23,4])\n",
    "my_array.tolist()"
   ]
  },
  {
   "cell_type": "markdown",
   "metadata": {},
   "source": [
    "## 多维数组\n"
   ]
  },
  {
   "cell_type": "code",
   "execution_count": 29,
   "metadata": {},
   "outputs": [
    {
     "name": "stdout",
     "output_type": "stream",
     "text": [
      "[[1, 2, 3], [4, 5, 6], [5, 6, 7]]\n",
      "[5, 6, 7]\n",
      "[5, 6, 100]\n",
      "[[1, 2, 3], [4, 5, 6], [5, 6, 100]]\n"
     ]
    }
   ],
   "source": [
    "a = [[1,2,3], [4,5,6], [5,6,7]]\n",
    "b = a[2]\n",
    "print(a)\n",
    "print(b)\n",
    "b[2] = 100\n",
    "print(b)\n",
    "print(a)\n",
    "\n",
    "## 共享内存"
   ]
  },
  {
   "cell_type": "code",
   "execution_count": 3,
   "metadata": {},
   "outputs": [
    {
     "name": "stdout",
     "output_type": "stream",
     "text": [
      "[[1 2 3]\n",
      " [4 5 6]]\n",
      "[[   1    2    3]\n",
      " [   4 1000    6]]\n",
      "[[1 2 3]\n",
      " [4 5 6]]\n"
     ]
    }
   ],
   "source": [
    "import numpy as np\n",
    "a = np.array([[1,2,3],[4,5,6]])\n",
    "b = np.array(a, copy=True)\n",
    "print(b)\n",
    "b[1][1] = 1000\n",
    "print(b)\n",
    "print(a)"
   ]
  },
  {
   "cell_type": "code",
   "execution_count": null,
   "metadata": {},
   "outputs": [],
   "source": []
  }
 ],
 "metadata": {
  "kernelspec": {
   "display_name": "Python 3",
   "language": "python",
   "name": "python3"
  },
  "language_info": {
   "codemirror_mode": {
    "name": "ipython",
    "version": 3
   },
   "file_extension": ".py",
   "mimetype": "text/x-python",
   "name": "python",
   "nbconvert_exporter": "python",
   "pygments_lexer": "ipython3",
   "version": "3.7.0"
  }
 },
 "nbformat": 4,
 "nbformat_minor": 2
}
