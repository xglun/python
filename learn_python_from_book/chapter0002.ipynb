{
 "cells": [
  {
   "cell_type": "markdown",
   "metadata": {},
   "source": [
    "# 第二章：python数据类型\n",
    "\n",
    "数据类型只不过是在内存中保留一些空间的变量。python变量不需要申报内存空间。当给变量赋值的时候申报就自动完成了。\n",
    "\n",
    "## 字符串数据类型\n",
    "\n",
    "字符串数据需要用引号表示，单引号和双引号都行。字符串是不可变的序列数据类型，每次对字符串进行修改是都会创建一个新的字符串对象.\n",
    "\n"
   ]
  },
  {
   "cell_type": "code",
   "execution_count": 4,
   "metadata": {},
   "outputs": [
    {
     "name": "stdout",
     "output_type": "stream",
     "text": [
      "Hello World\n",
      "H\n",
      "Hello\n",
      " \n"
     ]
    }
   ],
   "source": [
    "a_str = 'Hello World'\n",
    "print(a_str)\n",
    "print(a_str[0])\n",
    "print(a_str[0:5])\n",
    "print(a_str[5])           # 会输出空格，空格也占一个位置\n",
    "# a_str[5] = 'f'            # 会报错因为字符串是不可变的"
   ]
  },
  {
   "cell_type": "markdown",
   "metadata": {},
   "source": [
    "## 集合\n",
    "\n",
    "集合是唯一对象的无序集合，集合有两种形式\n",
    "\n",
    "- 1 集合：可变的，新的元素可以被加到集合中\n"
   ]
  },
  {
   "cell_type": "code",
   "execution_count": 13,
   "metadata": {},
   "outputs": [
    {
     "name": "stdout",
     "output_type": "stream",
     "text": [
      "{'orange', 'pear', 'banana', 'apple'}\n",
      "<class 'set'>\n",
      "<class 'set'>\n",
      "{'b', 'd', 'g', 'a', 's', 'r', 'c'}\n",
      "{'b', 'd', 'g', 'a', 's', 'z', 'r', 'c'}\n"
     ]
    }
   ],
   "source": [
    "basket = {'apple', 'orange', 'apple', 'pear', 'orange', 'banana'}\n",
    "print(basket)\n",
    "print(type(basket))\n",
    "a = set()              # 创建一个空集合\n",
    "print(type(a))\n",
    "a = set('abracaddgdds')         # 将字符串转换为集合\n",
    "print(a)\n",
    "a.add('z')\n",
    "print(a)"
   ]
  },
  {
   "cell_type": "markdown",
   "metadata": {},
   "source": [
    "- 2 不可变集合，新的元素不能加到集合中去\n"
   ]
  },
  {
   "cell_type": "code",
   "execution_count": 14,
   "metadata": {},
   "outputs": [
    {
     "name": "stdout",
     "output_type": "stream",
     "text": [
      "frozenset({'d', 'g', 'a', 's'})\n"
     ]
    }
   ],
   "source": [
    "b = frozenset('asdgsg')\n",
    "print(b)\n"
   ]
  },
  {
   "cell_type": "markdown",
   "metadata": {},
   "source": [
    "## 数字\n",
    "\n",
    "数字包括整数型、浮点型、复数、长数据"
   ]
  },
  {
   "cell_type": "code",
   "execution_count": 18,
   "metadata": {},
   "outputs": [
    {
     "ename": "SyntaxError",
     "evalue": "invalid syntax (<ipython-input-18-d1f2b24d5879>, line 5)",
     "output_type": "error",
     "traceback": [
      "\u001b[1;36m  File \u001b[1;32m\"<ipython-input-18-d1f2b24d5879>\"\u001b[1;36m, line \u001b[1;32m5\u001b[0m\n\u001b[1;33m    long_num = 1234567L\u001b[0m\n\u001b[1;37m                      ^\u001b[0m\n\u001b[1;31mSyntaxError\u001b[0m\u001b[1;31m:\u001b[0m invalid syntax\n"
     ]
    }
   ],
   "source": [
    "int_num = 10\n",
    "float_num = 10.4\n",
    "complex_num = 9 + 3.14j\n",
    "# print(complex_num)\n",
    "# long_num = 1234567L\n",
    "# print(long_num)"
   ]
  },
  {
   "cell_type": "markdown",
   "metadata": {},
   "source": [
    "## 列表"
   ]
  },
  {
   "cell_type": "code",
   "execution_count": 19,
   "metadata": {},
   "outputs": [
    {
     "name": "stdout",
     "output_type": "stream",
     "text": [
      "[123, 'asd', 10.2, 'd']\n",
      "[123, 'asd', 10.2, 'd', 123, 'asd', 10.2, 'd']\n",
      "[123, 'asd', 10.2, 'd', 'hello', 'world']\n"
     ]
    }
   ],
   "source": [
    "lyst = [123, 'asd', 10.2, 'd']\n",
    "list1 = ['hello', 'world']\n",
    "print(lyst)\n",
    "print(lyst * 2)\n",
    "print(lyst + list1)"
   ]
  },
  {
   "cell_type": "markdown",
   "metadata": {},
   "source": [
    "## 字典"
   ]
  },
  {
   "cell_type": "code",
   "execution_count": 20,
   "metadata": {},
   "outputs": [
    {
     "name": "stdout",
     "output_type": "stream",
     "text": [
      "{'name': 'red', 'age': 10}\n",
      "red\n",
      "dict_values(['red', 10])\n",
      "dict_items([('name', 'red'), ('age', 10)])\n",
      "dict_keys(['name', 'age'])\n"
     ]
    }
   ],
   "source": [
    "dic = {'name': 'red', 'age': 10}\n",
    "print(dic)\n",
    "print(dic['name'])\n",
    "print(dic.values())\n",
    "print(dic.items())\n",
    "print(dic.keys())"
   ]
  },
  {
   "cell_type": "markdown",
   "metadata": {},
   "source": [
    "## 元组\n",
    "\n",
    "元组的元素和大小不能被改变"
   ]
  },
  {
   "cell_type": "code",
   "execution_count": 22,
   "metadata": {},
   "outputs": [
    {
     "name": "stdout",
     "output_type": "stream",
     "text": [
      "(123, 'hello')\n",
      "123\n",
      "world w\n"
     ]
    },
    {
     "ename": "TypeError",
     "evalue": "can only concatenate tuple (not \"str\") to tuple",
     "output_type": "error",
     "traceback": [
      "\u001b[1;31m---------------------------------------------------------------------------\u001b[0m",
      "\u001b[1;31mTypeError\u001b[0m                                 Traceback (most recent call last)",
      "\u001b[1;32m<ipython-input-22-930150dcdb24>\u001b[0m in \u001b[0;36m<module>\u001b[1;34m()\u001b[0m\n\u001b[0;32m      4\u001b[0m \u001b[0mprint\u001b[0m\u001b[1;33m(\u001b[0m\u001b[0mtup\u001b[0m\u001b[1;33m[\u001b[0m\u001b[1;36m0\u001b[0m\u001b[1;33m]\u001b[0m\u001b[1;33m)\u001b[0m\u001b[1;33m\u001b[0m\u001b[0m\n\u001b[0;32m      5\u001b[0m \u001b[0mprint\u001b[0m\u001b[1;33m(\u001b[0m\u001b[0mtup1\u001b[0m\u001b[1;33m,\u001b[0m \u001b[0mtup1\u001b[0m\u001b[1;33m[\u001b[0m\u001b[1;36m0\u001b[0m\u001b[1;33m]\u001b[0m\u001b[1;33m)\u001b[0m\u001b[1;33m\u001b[0m\u001b[0m\n\u001b[1;32m----> 6\u001b[1;33m \u001b[0mprint\u001b[0m\u001b[1;33m(\u001b[0m\u001b[0mtup\u001b[0m \u001b[1;33m+\u001b[0m \u001b[0mtup1\u001b[0m\u001b[1;33m)\u001b[0m\u001b[1;33m\u001b[0m\u001b[0m\n\u001b[0m\u001b[0;32m      7\u001b[0m \u001b[0mtup\u001b[0m\u001b[1;33m[\u001b[0m\u001b[1;36m1\u001b[0m\u001b[1;33m]\u001b[0m \u001b[1;33m=\u001b[0m \u001b[1;34m'update'\u001b[0m\u001b[1;33m\u001b[0m\u001b[0m\n",
      "\u001b[1;31mTypeError\u001b[0m: can only concatenate tuple (not \"str\") to tuple"
     ]
    }
   ],
   "source": [
    "tup = (123, 'hello')\n",
    "tup1 = ('world')\n",
    "print(tup)\n",
    "print(tup[0])\n",
    "print(tup1, tup1[0])\n",
    "print(tup + tup1)\n",
    "tup[1] = 'update'      # 会报错"
   ]
  },
  {
   "cell_type": "code",
   "execution_count": 2,
   "metadata": {},
   "outputs": [
    {
     "ename": "SyntaxError",
     "evalue": "can't use starred expression here (<ipython-input-2-5554bbe32659>, line 1)",
     "output_type": "error",
     "traceback": [
      "\u001b[1;36m  File \u001b[1;32m\"<ipython-input-2-5554bbe32659>\"\u001b[1;36m, line \u001b[1;32m1\u001b[0m\n\u001b[1;33m    a, b = *((1,2), (3,4))\u001b[0m\n\u001b[1;37m          ^\u001b[0m\n\u001b[1;31mSyntaxError\u001b[0m\u001b[1;31m:\u001b[0m can't use starred expression here\n"
     ]
    }
   ],
   "source": [
    "print(*((1,2), (3,4)))"
   ]
  },
  {
   "cell_type": "code",
   "execution_count": null,
   "metadata": {},
   "outputs": [],
   "source": []
  }
 ],
 "metadata": {
  "kernelspec": {
   "display_name": "Python 3",
   "language": "python",
   "name": "python3"
  },
  "language_info": {
   "codemirror_mode": {
    "name": "ipython",
    "version": 3
   },
   "file_extension": ".py",
   "mimetype": "text/x-python",
   "name": "python",
   "nbconvert_exporter": "python",
   "pygments_lexer": "ipython3",
   "version": "3.7.0"
  }
 },
 "nbformat": 4,
 "nbformat_minor": 2
}
